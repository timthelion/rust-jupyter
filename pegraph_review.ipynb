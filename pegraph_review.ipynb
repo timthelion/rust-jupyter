{
 "cells": [
  {
   "cell_type": "markdown",
   "metadata": {},
   "source": [
    "petgraph review/tutorial\n",
    "---------------\n",
    "- Author: [Timothy Hobbs](https://timothy.hobbs.cz)\n",
    "- License: [CC-BY 4.0](https://creativecommons.org/licenses/by/4.0/)\n",
    "- Written: 10.2019\n",
    "\n",
    "[project homepage](https://github.com/petgraph/petgraph) [ipynb](./petgraph_review.ipynb)\n",
    "\n",
    "petgraph is a rust library which allows you to work with graph data structures in rust."
   ]
  },
  {
   "cell_type": "code",
   "execution_count": 2,
   "metadata": {},
   "outputs": [
    {
     "ename": "Error",
     "evalue": "Compilation failed, but no parsable errors were found. STDERR:\n    Updating crates.io index\nwarning: spurious network error (2 tries remaining): failed to resolve address for github.com: Temporary failure in name resolution; class=Net (12)\nwarning: spurious network error (1 tries remaining): failed to resolve address for github.com: Temporary failure in name resolution; class=Net (12)\nerror: failed to load source for a dependency on `petgraph`\n\nCaused by:\n  Unable to update registry `https://github.com/rust-lang/crates.io-index`\n\nCaused by:\n  failed to fetch `https://github.com/rust-lang/crates.io-index`\n\nCaused by:\n  failed to resolve address for github.com: Temporary failure in name resolution; class=Net (12)\n\nSTDOUT:\n",
     "output_type": "error",
     "traceback": [
      "Compilation failed, but no parsable errors were found. STDERR:\n    Updating crates.io index\nwarning: spurious network error (2 tries remaining): failed to resolve address for github.com: Temporary failure in name resolution; class=Net (12)\nwarning: spurious network error (1 tries remaining): failed to resolve address for github.com: Temporary failure in name resolution; class=Net (12)\nerror: failed to load source for a dependency on `petgraph`\n\nCaused by:\n  Unable to update registry `https://github.com/rust-lang/crates.io-index`\n\nCaused by:\n  failed to fetch `https://github.com/rust-lang/crates.io-index`\n\nCaused by:\n  failed to resolve address for github.com: Temporary failure in name resolution; class=Net (12)\n\nSTDOUT:\n"
     ]
    }
   ],
   "source": [
    ":dep petgraph = \"0.4.13\""
   ]
  },
  {
   "cell_type": "code",
   "execution_count": 3,
   "metadata": {},
   "outputs": [
    {
     "ename": "Error",
     "evalue": "Compilation failed, but no parsable errors were found. STDERR:\n    Updating crates.io index\nwarning: spurious network error (2 tries remaining): failed to resolve address for github.com: Temporary failure in name resolution; class=Net (12)\nwarning: spurious network error (1 tries remaining): failed to resolve address for github.com: Temporary failure in name resolution; class=Net (12)\nerror: failed to load source for a dependency on `petgraph-evcxr`\n\nCaused by:\n  Unable to update registry `https://github.com/rust-lang/crates.io-index`\n\nCaused by:\n  failed to fetch `https://github.com/rust-lang/crates.io-index`\n\nCaused by:\n  failed to resolve address for github.com: Temporary failure in name resolution; class=Net (12)\n\nSTDOUT:\n",
     "output_type": "error",
     "traceback": [
      "Compilation failed, but no parsable errors were found. STDERR:\n    Updating crates.io index\nwarning: spurious network error (2 tries remaining): failed to resolve address for github.com: Temporary failure in name resolution; class=Net (12)\nwarning: spurious network error (1 tries remaining): failed to resolve address for github.com: Temporary failure in name resolution; class=Net (12)\nerror: failed to load source for a dependency on `petgraph-evcxr`\n\nCaused by:\n  Unable to update registry `https://github.com/rust-lang/crates.io-index`\n\nCaused by:\n  failed to fetch `https://github.com/rust-lang/crates.io-index`\n\nCaused by:\n  failed to resolve address for github.com: Temporary failure in name resolution; class=Net (12)\n\nSTDOUT:\n"
     ]
    }
   ],
   "source": [
    ":dep petgraph-evcxr = \"*\""
   ]
  },
  {
   "cell_type": "code",
   "execution_count": 4,
   "metadata": {},
   "outputs": [
    {
     "ename": "Error",
     "evalue": "Unexpected end of JSON",
     "output_type": "error",
     "traceback": [
      "Unexpected end of JSON"
     ]
    }
   ],
   "source": [
    "extern crate petgraph;\n",
    "use petgraph::graph::Graph;\n",
    "use petgraph::dot::Dot;"
   ]
  },
  {
   "cell_type": "code",
   "execution_count": 5,
   "metadata": {},
   "outputs": [
    {
     "ename": "Error",
     "evalue": "unresolved import `petgraph_evcxr`",
     "output_type": "error",
     "traceback": [
      "use petgraph_evcxr::draw_graph;",
      "\u001b[91m    ^^^^^^^^^^^^^^\u001b[0m \u001b[94muse of undeclared type or module `petgraph_evcxr`\u001b[0m",
      "unresolved import `petgraph_evcxr`"
     ]
    }
   ],
   "source": [
    "use petgraph_evcxr::draw_graph;"
   ]
  },
  {
   "cell_type": "markdown",
   "metadata": {},
   "source": [
    "I guess I'll start by specifying what kind of graphs we're talking about. We're talking about the datastructure type of graph, not the 'chart' type of graph. For the chart type of graph try the [plotters](https://github.com/38/plotters#trying-with-jupyter-evcxr-kernel-interactively) library."
   ]
  },
  {
   "cell_type": "code",
   "execution_count": 6,
   "metadata": {},
   "outputs": [
    {
     "ename": "Error",
     "evalue": "Compilation failed, but no parsable errors were found. STDERR:\n    Updating git repository `https://github.com/38/plotters`\nwarning: spurious network error (2 tries remaining): failed to resolve address for github.com: Temporary failure in name resolution; class=Net (12)\nwarning: spurious network error (1 tries remaining): failed to resolve address for github.com: Temporary failure in name resolution; class=Net (12)\nerror: failed to load source for a dependency on `plotters`\n\nCaused by:\n  Unable to update https://github.com/38/plotters\n\nCaused by:\n  failed to fetch into /usr/local/cargo/git/db/plotters-6aced55a29a4ec18\n\nCaused by:\n  failed to resolve address for github.com: Temporary failure in name resolution; class=Net (12)\n\nSTDOUT:\n",
     "output_type": "error",
     "traceback": [
      "Compilation failed, but no parsable errors were found. STDERR:\n    Updating git repository `https://github.com/38/plotters`\nwarning: spurious network error (2 tries remaining): failed to resolve address for github.com: Temporary failure in name resolution; class=Net (12)\nwarning: spurious network error (1 tries remaining): failed to resolve address for github.com: Temporary failure in name resolution; class=Net (12)\nerror: failed to load source for a dependency on `plotters`\n\nCaused by:\n  Unable to update https://github.com/38/plotters\n\nCaused by:\n  failed to fetch into /usr/local/cargo/git/db/plotters-6aced55a29a4ec18\n\nCaused by:\n  failed to resolve address for github.com: Temporary failure in name resolution; class=Net (12)\n\nSTDOUT:\n"
     ]
    }
   ],
   "source": [
    ":dep plotters = { git = \"https://github.com/38/plotters\", default_features = false, features = [\"evcxr\"] }"
   ]
  },
  {
   "cell_type": "code",
   "execution_count": 7,
   "metadata": {},
   "outputs": [
    {
     "ename": "Error",
     "evalue": "Unexpected end of JSON",
     "output_type": "error",
     "traceback": [
      "Unexpected end of JSON"
     ]
    }
   ],
   "source": [
    "extern crate plotters;\n",
    "use plotters::prelude::*;\n",
    "\n",
    "let figure = evcxr_figure((640, 480), |root| {\n",
    "    root.fill(&WHITE);\n",
    "    let mut chart = ChartBuilder::on(&root)\n",
    "        .caption(\"Not this type of graph\", (\"Arial\", 50).into_font())\n",
    "        .margin(5)\n",
    "        .x_label_area_size(30)\n",
    "        .y_label_area_size(30)\n",
    "        .build_ranged(-1f32..1f32, -0.1f32..1f32)?;\n",
    "\n",
    "    chart.configure_mesh().draw()?;\n",
    "\n",
    "    chart.draw_series(LineSeries::new(\n",
    "        (-50..=50).map(|x| x as f32 / 50.0).map(|x| (x, x * x)),\n",
    "        &RED,\n",
    "    )).unwrap()\n",
    "        .label(\"y = x^2\")\n",
    "        .legend(|(x,y)| Path::new(vec![(x,y), (x + 20,y)], &RED));\n",
    "\n",
    "    chart.configure_series_labels()\n",
    "        .background_style(&WHITE.mix(0.8))\n",
    "        .border_style(&BLACK)\n",
    "        .draw()?;\n",
    "    Ok(())\n",
    "});\n",
    "figure"
   ]
  },
  {
   "cell_type": "markdown",
   "metadata": {},
   "source": [
    "This is an example of a graph. You can create a graph in petgraph by initializing a `Graph` struct and adding some nodes and edges to it."
   ]
  },
  {
   "cell_type": "code",
   "execution_count": 8,
   "metadata": {},
   "outputs": [
    {
     "ename": "Error",
     "evalue": "failed to resolve: use of undeclared type or module `Graph`",
     "output_type": "error",
     "traceback": [
      "let mut g : Graph<&str, &str> = Graph::new();",
      "\u001b[91m                                ^^^^^\u001b[0m \u001b[94muse of undeclared type or module `Graph`\u001b[0m",
      "failed to resolve: use of undeclared type or module `Graph`"
     ]
    },
    {
     "ename": "Error",
     "evalue": "cannot find type `Graph` in this scope",
     "output_type": "error",
     "traceback": [
      "let mut g : Graph<&str, &str> = Graph::new();",
      "\u001b[91m            ^^^^^\u001b[0m \u001b[94mnot found in this scope\u001b[0m",
      "cannot find type `Graph` in this scope"
     ]
    },
    {
     "ename": "Error",
     "evalue": "cannot find function `draw_graph` in this scope",
     "output_type": "error",
     "traceback": [
      "draw_graph(&g);",
      "\u001b[91m^^^^^^^^^^\u001b[0m \u001b[94mnot found in this scope\u001b[0m",
      "cannot find function `draw_graph` in this scope"
     ]
    }
   ],
   "source": [
    "let mut g : Graph<&str, &str> = Graph::new();\n",
    "let a = g.add_node(\"Node (vertex): a\");\n",
    "let b = g.add_node(\"Node (vertex): b\");\n",
    "g.add_edge(a, b, \"edge from a → b\");\n",
    "draw_graph(&g);"
   ]
  },
  {
   "cell_type": "markdown",
   "metadata": {},
   "source": [
    "Graphs are universal datastructures. Every data structure can be represented as a graph. Here are some examples of data structures that can be represented as graphs.\n",
    "\n",
    "- variables\n",
    "- lists\n",
    "- tables\n",
    "- trees\n",
    "- ring buffers\n",
    "- dictionaries\n"
   ]
  },
  {
   "cell_type": "markdown",
   "metadata": {},
   "source": [
    "Variables\n",
    "----------\n",
    "\n",
    "A variable can be represented, from a theoretical standpoint, as a singleton graph."
   ]
  },
  {
   "cell_type": "code",
   "execution_count": 9,
   "metadata": {},
   "outputs": [
    {
     "ename": "Error",
     "evalue": "failed to resolve: use of undeclared type or module `petgraph`",
     "output_type": "error",
     "traceback": [
      "let mut singleton : Graph<&str, &str, petgraph::Undirected> = Graph::new_undirected();",
      "\u001b[91m                                      ^^^^^^^^\u001b[0m \u001b[94muse of undeclared type or module `petgraph`\u001b[0m",
      "failed to resolve: use of undeclared type or module `petgraph`"
     ]
    },
    {
     "ename": "Error",
     "evalue": "failed to resolve: use of undeclared type or module `Graph`",
     "output_type": "error",
     "traceback": [
      "let mut singleton : Graph<&str, &str, petgraph::Undirected> = Graph::new_undirected();",
      "\u001b[91m                                                              ^^^^^\u001b[0m \u001b[94muse of undeclared type or module `Graph`\u001b[0m",
      "failed to resolve: use of undeclared type or module `Graph`"
     ]
    },
    {
     "ename": "Error",
     "evalue": "cannot find type `Graph` in this scope",
     "output_type": "error",
     "traceback": [
      "let mut singleton : Graph<&str, &str, petgraph::Undirected> = Graph::new_undirected();",
      "\u001b[91m                    ^^^^^\u001b[0m \u001b[94mnot found in this scope\u001b[0m",
      "cannot find type `Graph` in this scope"
     ]
    },
    {
     "ename": "Error",
     "evalue": "cannot find function `draw_graph` in this scope",
     "output_type": "error",
     "traceback": [
      "draw_graph(&singleton);",
      "\u001b[91m^^^^^^^^^^\u001b[0m \u001b[94mnot found in this scope\u001b[0m",
      "cannot find function `draw_graph` in this scope"
     ]
    }
   ],
   "source": [
    "let mut singleton : Graph<&str, &str, petgraph::Undirected> = Graph::new_undirected();\n",
    "let singleton_node = singleton.add_node(\"only value\");\n",
    "draw_graph(&singleton);"
   ]
  },
  {
   "cell_type": "markdown",
   "metadata": {},
   "source": [
    "Lists\n",
    "-----"
   ]
  },
  {
   "cell_type": "code",
   "execution_count": 10,
   "metadata": {},
   "outputs": [
    {
     "ename": "Error",
     "evalue": "failed to resolve: use of undeclared type or module `petgraph`",
     "output_type": "error",
     "traceback": [
      "let mut list : Graph<&str, &str, petgraph::Undirected> = Graph::new_undirected();",
      "\u001b[91m                                 ^^^^^^^^\u001b[0m \u001b[94muse of undeclared type or module `petgraph`\u001b[0m",
      "failed to resolve: use of undeclared type or module `petgraph`"
     ]
    },
    {
     "ename": "Error",
     "evalue": "failed to resolve: use of undeclared type or module `Graph`",
     "output_type": "error",
     "traceback": [
      "let mut list : Graph<&str, &str, petgraph::Undirected> = Graph::new_undirected();",
      "\u001b[91m                                                         ^^^^^\u001b[0m \u001b[94muse of undeclared type or module `Graph`\u001b[0m",
      "failed to resolve: use of undeclared type or module `Graph`"
     ]
    },
    {
     "ename": "Error",
     "evalue": "cannot find type `Graph` in this scope",
     "output_type": "error",
     "traceback": [
      "let mut list : Graph<&str, &str, petgraph::Undirected> = Graph::new_undirected();",
      "\u001b[91m               ^^^^^\u001b[0m \u001b[94mnot found in this scope\u001b[0m",
      "cannot find type `Graph` in this scope"
     ]
    },
    {
     "ename": "Error",
     "evalue": "cannot find function `draw_graph` in this scope",
     "output_type": "error",
     "traceback": [
      "draw_graph(&list);",
      "\u001b[91m^^^^^^^^^^\u001b[0m \u001b[94mnot found in this scope\u001b[0m",
      "cannot find function `draw_graph` in this scope"
     ]
    }
   ],
   "source": [
    "let mut list : Graph<&str, &str, petgraph::Undirected> = Graph::new_undirected();\n",
    "let item1 = list.add_node(\"a\");\n",
    "let item2 = list.add_node(\"b\");\n",
    "let item3 = list.add_node(\"c\");\n",
    "list.add_edge(item1, item2, \"\");\n",
    "list.add_edge(item2, item3, \"\");\n",
    "draw_graph(&list);"
   ]
  },
  {
   "cell_type": "markdown",
   "metadata": {},
   "source": [
    "Tables\n",
    "------"
   ]
  },
  {
   "cell_type": "code",
   "execution_count": 11,
   "metadata": {},
   "outputs": [
    {
     "ename": "Error",
     "evalue": "failed to resolve: use of undeclared type or module `petgraph`",
     "output_type": "error",
     "traceback": [
      "let mut table : Graph<&str, &str, petgraph::Undirected> = Graph::new_undirected();",
      "\u001b[91m                                  ^^^^^^^^\u001b[0m \u001b[94muse of undeclared type or module `petgraph`\u001b[0m",
      "failed to resolve: use of undeclared type or module `petgraph`"
     ]
    },
    {
     "ename": "Error",
     "evalue": "failed to resolve: use of undeclared type or module `Graph`",
     "output_type": "error",
     "traceback": [
      "let mut table : Graph<&str, &str, petgraph::Undirected> = Graph::new_undirected();",
      "\u001b[91m                                                          ^^^^^\u001b[0m \u001b[94muse of undeclared type or module `Graph`\u001b[0m",
      "failed to resolve: use of undeclared type or module `Graph`"
     ]
    },
    {
     "ename": "Error",
     "evalue": "cannot find type `Graph` in this scope",
     "output_type": "error",
     "traceback": [
      "let mut table : Graph<&str, &str, petgraph::Undirected> = Graph::new_undirected();",
      "\u001b[91m                ^^^^^\u001b[0m \u001b[94mnot found in this scope\u001b[0m",
      "cannot find type `Graph` in this scope"
     ]
    },
    {
     "ename": "Error",
     "evalue": "cannot find function `draw_graph` in this scope",
     "output_type": "error",
     "traceback": [
      "draw_graph(&table);",
      "\u001b[91m^^^^^^^^^^\u001b[0m \u001b[94mnot found in this scope\u001b[0m",
      "cannot find function `draw_graph` in this scope"
     ]
    }
   ],
   "source": [
    "let mut table : Graph<&str, &str, petgraph::Undirected> = Graph::new_undirected();\n",
    "let cellA1 = table.add_node(\"A1\");\n",
    "let cellA2 = table.add_node(\"A2\");\n",
    "let cellA3 = table.add_node(\"A3\");\n",
    "\n",
    "let cellB1 = table.add_node(\"B1\");\n",
    "let cellB2 = table.add_node(\"B2\");\n",
    "let cellB3 = table.add_node(\"B3\");\n",
    "\n",
    "let cellC1 = table.add_node(\"C1\");\n",
    "let cellC2 = table.add_node(\"C2\");\n",
    "let cellC3 = table.add_node(\"C3\");\n",
    "\n",
    "// Columns\n",
    "table.add_edge(cellA1, cellA2, \"\");\n",
    "table.add_edge(cellA2, cellA3, \"\");\n",
    "\n",
    "table.add_edge(cellB1, cellB2, \"\");\n",
    "table.add_edge(cellB2, cellB3, \"\");\n",
    "\n",
    "table.add_edge(cellC1, cellC2, \"\");\n",
    "table.add_edge(cellC2, cellC3, \"\");\n",
    "\n",
    "// Rows\n",
    "table.add_edge(cellA1, cellB1, \"\");\n",
    "table.add_edge(cellB1, cellC1, \"\");\n",
    "\n",
    "table.add_edge(cellA2, cellB2, \"\");\n",
    "table.add_edge(cellB2, cellC2, \"\");\n",
    "\n",
    "table.add_edge(cellA3, cellB3, \"\");\n",
    "table.add_edge(cellB3, cellC3, \"\");\n",
    "\n",
    "draw_graph(&table);"
   ]
  },
  {
   "cell_type": "markdown",
   "metadata": {},
   "source": [
    "Trees\n",
    "-----"
   ]
  },
  {
   "cell_type": "code",
   "execution_count": 12,
   "metadata": {},
   "outputs": [
    {
     "ename": "Error",
     "evalue": "failed to resolve: use of undeclared type or module `petgraph`",
     "output_type": "error",
     "traceback": [
      "let mut tree : Graph<&str, &str, petgraph::Directed> = Graph::new();",
      "\u001b[91m                                 ^^^^^^^^\u001b[0m \u001b[94muse of undeclared type or module `petgraph`\u001b[0m",
      "failed to resolve: use of undeclared type or module `petgraph`"
     ]
    },
    {
     "ename": "Error",
     "evalue": "failed to resolve: use of undeclared type or module `Graph`",
     "output_type": "error",
     "traceback": [
      "let mut tree : Graph<&str, &str, petgraph::Directed> = Graph::new();",
      "\u001b[91m                                                       ^^^^^\u001b[0m \u001b[94muse of undeclared type or module `Graph`\u001b[0m",
      "failed to resolve: use of undeclared type or module `Graph`"
     ]
    },
    {
     "ename": "Error",
     "evalue": "cannot find type `Graph` in this scope",
     "output_type": "error",
     "traceback": [
      "let mut tree : Graph<&str, &str, petgraph::Directed> = Graph::new();",
      "\u001b[91m               ^^^^^\u001b[0m \u001b[94mnot found in this scope\u001b[0m",
      "cannot find type `Graph` in this scope"
     ]
    },
    {
     "ename": "Error",
     "evalue": "cannot find function `draw_graph` in this scope",
     "output_type": "error",
     "traceback": [
      "draw_graph(&tree);",
      "\u001b[91m^^^^^^^^^^\u001b[0m \u001b[94mnot found in this scope\u001b[0m",
      "cannot find function `draw_graph` in this scope"
     ]
    }
   ],
   "source": [
    "let mut tree : Graph<&str, &str, petgraph::Directed> = Graph::new();\n",
    "let tree_item1 = tree.add_node(\"a\");\n",
    "let tree_item2 = tree.add_node(\"b\");\n",
    "let tree_item3 = tree.add_node(\"c\");\n",
    "let tree_item4 = tree.add_node(\"d\");\n",
    "let tree_item5 = tree.add_node(\"e\");\n",
    "tree.add_edge(tree_item1, tree_item2, \"\");\n",
    "tree.add_edge(tree_item1, tree_item3, \"\");\n",
    "tree.add_edge(tree_item2, tree_item4, \"\");\n",
    "tree.add_edge(tree_item2, tree_item5, \"\");\n",
    "draw_graph(&tree);"
   ]
  },
  {
   "cell_type": "markdown",
   "metadata": {},
   "source": [
    "Rings\n",
    "-----"
   ]
  },
  {
   "cell_type": "code",
   "execution_count": 13,
   "metadata": {},
   "outputs": [
    {
     "ename": "Error",
     "evalue": "failed to resolve: use of undeclared type or module `Graph`",
     "output_type": "error",
     "traceback": [
      "let mut ring : Graph<&str, &str> = Graph::new();",
      "\u001b[91m                                   ^^^^^\u001b[0m \u001b[94muse of undeclared type or module `Graph`\u001b[0m",
      "failed to resolve: use of undeclared type or module `Graph`"
     ]
    },
    {
     "ename": "Error",
     "evalue": "cannot find type `Graph` in this scope",
     "output_type": "error",
     "traceback": [
      "let mut ring : Graph<&str, &str> = Graph::new();",
      "\u001b[91m               ^^^^^\u001b[0m \u001b[94mnot found in this scope\u001b[0m",
      "cannot find type `Graph` in this scope"
     ]
    },
    {
     "ename": "Error",
     "evalue": "cannot find function `draw_graph` in this scope",
     "output_type": "error",
     "traceback": [
      "draw_graph(&ring);",
      "\u001b[91m^^^^^^^^^^\u001b[0m \u001b[94mnot found in this scope\u001b[0m",
      "cannot find function `draw_graph` in this scope"
     ]
    }
   ],
   "source": [
    "let mut ring : Graph<&str, &str> = Graph::new();\n",
    "let ring_item1 = ring.add_node(\"a\");\n",
    "let ring_item2 = ring.add_node(\"b\");\n",
    "let ring_item3 = ring.add_node(\"c\");\n",
    "let ring_item4 = ring.add_node(\"d\");\n",
    "ring.add_edge(ring_item1, ring_item2, \"\");\n",
    "ring.add_edge(ring_item2, ring_item3, \"\");\n",
    "ring.add_edge(ring_item3, ring_item4, \"\");\n",
    "ring.add_edge(ring_item4, ring_item1, \"\");\n",
    "draw_graph(&ring);"
   ]
  },
  {
   "cell_type": "markdown",
   "metadata": {},
   "source": [
    "Dictionaries\n",
    "------------"
   ]
  },
  {
   "cell_type": "code",
   "execution_count": 14,
   "metadata": {},
   "outputs": [
    {
     "ename": "Error",
     "evalue": "failed to resolve: use of undeclared type or module `Graph`",
     "output_type": "error",
     "traceback": [
      "let mut dict : Graph<&str, &str> = Graph::new();",
      "\u001b[91m                                   ^^^^^\u001b[0m \u001b[94muse of undeclared type or module `Graph`\u001b[0m",
      "failed to resolve: use of undeclared type or module `Graph`"
     ]
    },
    {
     "ename": "Error",
     "evalue": "cannot find type `Graph` in this scope",
     "output_type": "error",
     "traceback": [
      "let mut dict : Graph<&str, &str> = Graph::new();",
      "\u001b[91m               ^^^^^\u001b[0m \u001b[94mnot found in this scope\u001b[0m",
      "cannot find type `Graph` in this scope"
     ]
    },
    {
     "ename": "Error",
     "evalue": "cannot find function `draw_graph` in this scope",
     "output_type": "error",
     "traceback": [
      "draw_graph(&dict);",
      "\u001b[91m^^^^^^^^^^\u001b[0m \u001b[94mnot found in this scope\u001b[0m",
      "cannot find function `draw_graph` in this scope"
     ]
    }
   ],
   "source": [
    "let mut dict : Graph<&str, &str> = Graph::new();\n",
    "let core = dict.add_node(\"dict\");\n",
    "\n",
    "let key1 = dict.add_node(\"key 1\");\n",
    "let key2 = dict.add_node(\"key 2\");\n",
    "let key3 = dict.add_node(\"key 3\");\n",
    "\n",
    "let value1 = dict.add_node(\"value 1\");\n",
    "let value2 = dict.add_node(\"value 2\");\n",
    "let value3 = dict.add_node(\"value 3\");\n",
    "\n",
    "dict.add_edge(core, key1, \"\");\n",
    "dict.add_edge(core, key2, \"\");\n",
    "dict.add_edge(core, key3, \"\");\n",
    "\n",
    "dict.add_edge(key1, value1, \"\");\n",
    "dict.add_edge(key2, value2, \"\");\n",
    "dict.add_edge(key3, value3, \"\");\n",
    "draw_graph(&dict);"
   ]
  },
  {
   "cell_type": "markdown",
   "metadata": {},
   "source": [
    "Basic petgaph usage\n",
    "-----------------------------\n",
    "\n",
    "In petgraph there are various ways of storing a graph. The simplest is to use the [`Graph`](https://docs.rs/petgraph/0.4.13/petgraph/graph/struct.Graph.html) data type. `Graph`s can be either Directed or Undirected. (Note: Graphs are stored the same way whether they are Directed or Undirected. All graphs are stored internally as directed graphs. The only difference is the behavior of some algorithms such as the shortest path algorithms. )\n",
    "\n",
    "You can initialize a directed graph with the statement:\n",
    "\n",
    "```rust\n",
    "let mut directed_graph : Graph<&str, &str> = Graph::new();\n",
    "```\n",
    "\n",
    "You can initialize an undirected graph with the statement:\n",
    "\n",
    "```rust\n",
    "let mut undirected_graph : Graph<&str, &str, petgraph::Undirected> = Graph::new_undirected();\n",
    "```\n",
    "\n",
    "You may have noticed that we specify the `Graph`'s type with two type parameters `&str` and `&str`.\n",
    "\n",
    "The first parameter is the `Node` weight. This is the data that is associated with the node. Weights are sometimes refered to as labels.\n",
    "\n",
    "The second parameter is the `Edge` weight.\n",
    "\n",
    "With petgraph you can store any type of data as node or edge weights. Lets create a simple social graph to demonstrate this fact."
   ]
  },
  {
   "cell_type": "code",
   "execution_count": 15,
   "metadata": {},
   "outputs": [],
   "source": [
    "use std::fmt;\n",
    "\n",
    "#[derive(Debug, Copy, Clone)]\n",
    "struct Person<'a> {\n",
    "    name: &'a str,\n",
    "    age: u8,\n",
    "}\n",
    "\n",
    "#[derive(Debug, Copy, Clone)]\n",
    "enum Relationship {\n",
    "    Friend,\n",
    "    Father,\n",
    "    Mother,\n",
    "    Sister,\n",
    "    Brother,\n",
    "    Boss,\n",
    "}\n",
    "\n",
    "impl<'a> fmt::Display for Person<'a> {\n",
    "    fn fmt(&self, f: &mut fmt::Formatter<'_>) -> fmt::Result {\n",
    "        write!(f, \"{}, {}\", self.name, self.age)\n",
    "    }\n",
    "}\n",
    "\n",
    "impl fmt::Display for Relationship {\n",
    "    fn fmt(&self, f: &mut fmt::Formatter<'_>) -> fmt::Result {\n",
    "        write!(f, \"{:?}\", self)\n",
    "    }\n",
    "}"
   ]
  },
  {
   "cell_type": "code",
   "execution_count": 16,
   "metadata": {},
   "outputs": [
    {
     "ename": "Error",
     "evalue": "failed to resolve: use of undeclared type or module `Graph`",
     "output_type": "error",
     "traceback": [
      "let mut social_graph : Graph<Person, Relationship> = Graph::new();",
      "\u001b[91m                                                     ^^^^^\u001b[0m \u001b[94muse of undeclared type or module `Graph`\u001b[0m",
      "failed to resolve: use of undeclared type or module `Graph`"
     ]
    },
    {
     "ename": "Error",
     "evalue": "cannot find type `Graph` in this scope",
     "output_type": "error",
     "traceback": [
      "let mut social_graph : Graph<Person, Relationship> = Graph::new();",
      "\u001b[91m                       ^^^^^\u001b[0m \u001b[94mnot found in this scope\u001b[0m",
      "cannot find type `Graph` in this scope"
     ]
    },
    {
     "ename": "Error",
     "evalue": "cannot find function `draw_graph` in this scope",
     "output_type": "error",
     "traceback": [
      "draw_graph(&social_graph);",
      "\u001b[91m^^^^^^^^^^\u001b[0m \u001b[94mnot found in this scope\u001b[0m",
      "cannot find function `draw_graph` in this scope"
     ]
    }
   ],
   "source": [
    "let mut social_graph : Graph<Person, Relationship> = Graph::new();\n",
    "\n",
    "let bob = social_graph.add_node(Person{name: \"Bob\", age: 37});\n",
    "let alice = social_graph.add_node(Person{name: \"Alice\", age: 17});\n",
    "social_graph.add_edge(bob, alice, Relationship::Father);\n",
    "\n",
    "let lilly = social_graph.add_node(Person{name: \"Lilly\", age: 50});\n",
    "social_graph.add_edge(lilly, bob, Relationship::Boss);\n",
    "\n",
    "let george = social_graph.add_node(Person{name: \"George\", age: 16});\n",
    "social_graph.add_edge(george, alice, Relationship::Friend);\n",
    "social_graph.add_edge(lilly, george, Relationship::Mother);\n",
    "\n",
    "let fred = social_graph.add_node(Person{name: \"Fred\", age: 16});\n",
    "social_graph.add_edge(george, fred, Relationship::Friend);\n",
    "social_graph.add_edge(alice, fred, Relationship::Friend);\n",
    "\n",
    "draw_graph(&social_graph);\n",
    "let original_social_graph = social_graph.clone();"
   ]
  },
  {
   "cell_type": "markdown",
   "metadata": {},
   "source": [
    "Basic graph operations\n",
    "---------------------------------\n",
    "\n",
    "The most basic graph operations can be found directly as methods on the [`Graph`](https://docs.rs/petgraph/0.4.13/petgraph/graph/struct.Graph.html) struct.\n",
    "\n",
    "One of the most common methods is the [`map`](https://docs.rs/petgraph/0.4.13/petgraph/graph/struct.Graph.html#method.map) method which applies given functions to each node and edge weight in the graph. This method **creates a new graph** and the functions can **change the type of the weights**.\n",
    "\n",
    "```rust\n",
    "pub fn map<'a, F, G, N2, E2>(\n",
    "    &'a self, \n",
    "    node_map: F, \n",
    "    edge_map: G\n",
    ") -> Graph<N2, E2, Ty, Ix> where\n",
    "    F: FnMut(NodeIndex<Ix>, &'a N) -> N2,\n",
    "    G: FnMut(EdgeIndex<Ix>, &'a E) -> E2, \n",
    "```\n",
    "\n",
    "Here we increment the age of each person in the social graph."
   ]
  },
  {
   "cell_type": "code",
   "execution_count": 17,
   "metadata": {},
   "outputs": [
    {
     "ename": "Error",
     "evalue": "cannot find value `social_graph` in this scope",
     "output_type": "error",
     "traceback": [
      "let mut social_graph_a_year_later = social_graph.map(",
      "\u001b[91m                                    ^^^^^^^^^^^^\u001b[0m \u001b[94mnot found in this scope\u001b[0m",
      "cannot find value `social_graph` in this scope"
     ]
    },
    {
     "ename": "Error",
     "evalue": "cannot find function `draw_graph` in this scope",
     "output_type": "error",
     "traceback": [
      "draw_graph(&social_graph_a_year_later);",
      "\u001b[91m^^^^^^^^^^\u001b[0m \u001b[94mnot found in this scope\u001b[0m",
      "cannot find function `draw_graph` in this scope"
     ]
    }
   ],
   "source": [
    "let mut social_graph_a_year_later = social_graph.map(\n",
    "    |_, p| {\n",
    "        let mut p = p.clone();\n",
    "        p.age += 1;\n",
    "        p\n",
    "    },\n",
    "    |_, x| x.clone()\n",
    ");\n",
    "draw_graph(&social_graph_a_year_later);"
   ]
  },
  {
   "cell_type": "markdown",
   "metadata": {},
   "source": [
    "You can also **modify the weights in place** using the [`node_weights_mut`](https://docs.rs/petgraph/0.4.13/petgraph/graph/struct.Graph.html#method.node_weights_mut) and [`edge_weights_mut`](https://docs.rs/petgraph/0.4.13/petgraph/graph/struct.Graph.html#method.edge_weights_mut) iterators. This method **does not allow you to change the types of the weights**."
   ]
  },
  {
   "cell_type": "code",
   "execution_count": 18,
   "metadata": {},
   "outputs": [
    {
     "ename": "Error",
     "evalue": "cannot find value `social_graph_a_year_later` in this scope",
     "output_type": "error",
     "traceback": [
      "for person in social_graph_a_year_later.node_weights_mut(){",
      "\u001b[91m              ^^^^^^^^^^^^^^^^^^^^^^^^^\u001b[0m \u001b[94mnot found in this scope\u001b[0m",
      "cannot find value `social_graph_a_year_later` in this scope"
     ]
    },
    {
     "ename": "Error",
     "evalue": "cannot find function `draw_graph` in this scope",
     "output_type": "error",
     "traceback": [
      "draw_graph(&social_graph_a_year_later);",
      "\u001b[91m^^^^^^^^^^\u001b[0m \u001b[94mnot found in this scope\u001b[0m",
      "cannot find function `draw_graph` in this scope"
     ]
    },
    {
     "ename": "Error",
     "evalue": "cannot find value `social_graph_a_year_later` in this scope",
     "output_type": "error",
     "traceback": [
      "draw_graph(&social_graph_a_year_later);",
      "\u001b[91m            ^^^^^^^^^^^^^^^^^^^^^^^^^\u001b[0m \u001b[94mnot found in this scope\u001b[0m",
      "cannot find value `social_graph_a_year_later` in this scope"
     ]
    }
   ],
   "source": [
    "for person in social_graph_a_year_later.node_weights_mut(){\n",
    "    person.age += 1;\n",
    "}\n",
    "draw_graph(&social_graph_a_year_later);"
   ]
  },
  {
   "cell_type": "markdown",
   "metadata": {},
   "source": [
    "There are a large number of methods provided for `Graph`. Too many to list here. The last thing I'll mention about these methods is that methods wich remove nodes, such as [`filter_map`](https://docs.rs/petgraph/0.4.13/petgraph/graph/struct.Graph.html#method.filter_map) and [`remove_node`](https://docs.rs/petgraph/0.4.13/petgraph/graph/struct.Graph.html#method.remove_node) remove edges which are attached to the removed nodes, rather than leaving them dangling."
   ]
  },
  {
   "cell_type": "code",
   "execution_count": 19,
   "metadata": {},
   "outputs": [
    {
     "ename": "Error",
     "evalue": "cannot find value `social_graph` in this scope",
     "output_type": "error",
     "traceback": [
      "social_graph.remove_node(fred);",
      "\u001b[91m^^^^^^^^^^^^\u001b[0m \u001b[94mnot found in this scope\u001b[0m",
      "cannot find value `social_graph` in this scope"
     ]
    },
    {
     "ename": "Error",
     "evalue": "cannot find value `fred` in this scope",
     "output_type": "error",
     "traceback": [
      "social_graph.remove_node(fred);",
      "\u001b[91m                         ^^^^\u001b[0m \u001b[94mnot found in this scope\u001b[0m",
      "cannot find value `fred` in this scope"
     ]
    },
    {
     "ename": "Error",
     "evalue": "cannot find function `draw_graph` in this scope",
     "output_type": "error",
     "traceback": [
      "draw_graph(&social_graph);",
      "\u001b[91m^^^^^^^^^^\u001b[0m \u001b[94mnot found in this scope\u001b[0m",
      "cannot find function `draw_graph` in this scope"
     ]
    },
    {
     "ename": "Error",
     "evalue": "cannot find value `social_graph` in this scope",
     "output_type": "error",
     "traceback": [
      "draw_graph(&social_graph);",
      "\u001b[91m            ^^^^^^^^^^^^\u001b[0m \u001b[94mnot found in this scope\u001b[0m",
      "cannot find value `social_graph` in this scope"
     ]
    }
   ],
   "source": [
    "social_graph.remove_node(fred);\n",
    "draw_graph(&social_graph);"
   ]
  },
  {
   "cell_type": "markdown",
   "metadata": {},
   "source": [
    "Graph algorithms\n",
    "--------------------------\n",
    "\n",
    "Beyond the basic graph operations, petgraph also provides an array of graph algorithms in the module [`algo`](https://docs.rs/petgraph/0.4.13/petgraph/algo/index.html). These operations are well known and you can find their descriptions in most graph textbooks or on wikipedia.\n",
    "\n",
    "I'll start by describing the functions `is_cyclic_directed` and `is_cyclcic_undirected`. These functions are very important, because the distinction between cyclic graphs and acyclic graphs plays a big role in determining which other algorithms can be applied to the graph."
   ]
  },
  {
   "cell_type": "code",
   "execution_count": 20,
   "metadata": {},
   "outputs": [
    {
     "ename": "Error",
     "evalue": "failed to resolve: use of undeclared type or module `petgraph`",
     "output_type": "error",
     "traceback": [
      "use petgraph::algo::*;",
      "\u001b[91m    ^^^^^^^^\u001b[0m \u001b[94muse of undeclared type or module `petgraph`\u001b[0m",
      "failed to resolve: use of undeclared type or module `petgraph`"
     ]
    }
   ],
   "source": [
    "use petgraph::algo::*;"
   ]
  },
  {
   "cell_type": "code",
   "execution_count": 21,
   "metadata": {},
   "outputs": [
    {
     "ename": "Error",
     "evalue": "cannot find function `is_cyclic_undirected` in this scope",
     "output_type": "error",
     "traceback": [
      "println!(\"Is tree cyclic? {}\", is_cyclic_undirected(&tree));",
      "\u001b[91m                               ^^^^^^^^^^^^^^^^^^^^\u001b[0m \u001b[94mnot found in this scope\u001b[0m",
      "cannot find function `is_cyclic_undirected` in this scope"
     ]
    },
    {
     "ename": "Error",
     "evalue": "cannot find value `tree` in this scope",
     "output_type": "error",
     "traceback": [
      "println!(\"Is tree cyclic? {}\", is_cyclic_undirected(&tree));",
      "\u001b[91m                                                     ^^^^\u001b[0m \u001b[94mnot found in this scope\u001b[0m",
      "cannot find value `tree` in this scope"
     ]
    },
    {
     "ename": "Error",
     "evalue": "cannot find function `is_cyclic_directed` in this scope",
     "output_type": "error",
     "traceback": [
      "println!(\"Is social_graph cyclic? {}\", is_cyclic_directed(&social_graph_a_year_later));",
      "\u001b[91m                                       ^^^^^^^^^^^^^^^^^^\u001b[0m \u001b[94mnot found in this scope\u001b[0m",
      "cannot find function `is_cyclic_directed` in this scope"
     ]
    },
    {
     "ename": "Error",
     "evalue": "cannot find value `social_graph_a_year_later` in this scope",
     "output_type": "error",
     "traceback": [
      "println!(\"Is social_graph cyclic? {}\", is_cyclic_directed(&social_graph_a_year_later));",
      "\u001b[91m                                                           ^^^^^^^^^^^^^^^^^^^^^^^^^\u001b[0m \u001b[94mnot found in this scope\u001b[0m",
      "cannot find value `social_graph_a_year_later` in this scope"
     ]
    },
    {
     "ename": "Error",
     "evalue": "cannot find function `is_cyclic_undirected` in this scope",
     "output_type": "error",
     "traceback": [
      "println!(\"Is social_graph cyclic if we ignore edge direction? {}\", is_cyclic_undirected(&social_graph_a_year_later));",
      "\u001b[91m                                                                   ^^^^^^^^^^^^^^^^^^^^\u001b[0m \u001b[94mnot found in this scope\u001b[0m",
      "cannot find function `is_cyclic_undirected` in this scope"
     ]
    },
    {
     "ename": "Error",
     "evalue": "cannot find value `social_graph_a_year_later` in this scope",
     "output_type": "error",
     "traceback": [
      "println!(\"Is social_graph cyclic if we ignore edge direction? {}\", is_cyclic_undirected(&social_graph_a_year_later));",
      "\u001b[91m                                                                                         ^^^^^^^^^^^^^^^^^^^^^^^^^\u001b[0m \u001b[94mnot found in this scope\u001b[0m",
      "cannot find value `social_graph_a_year_later` in this scope"
     ]
    },
    {
     "ename": "Error",
     "evalue": "cannot find function `is_cyclic_directed` in this scope",
     "output_type": "error",
     "traceback": [
      "println!(\"Is ring cyclic? {}\", is_cyclic_directed(&ring));",
      "\u001b[91m                               ^^^^^^^^^^^^^^^^^^\u001b[0m \u001b[94mnot found in this scope\u001b[0m",
      "cannot find function `is_cyclic_directed` in this scope"
     ]
    },
    {
     "ename": "Error",
     "evalue": "cannot find value `ring` in this scope",
     "output_type": "error",
     "traceback": [
      "println!(\"Is ring cyclic? {}\", is_cyclic_directed(&ring));",
      "\u001b[91m                                                   ^^^^\u001b[0m \u001b[94mnot found in this scope\u001b[0m",
      "cannot find value `ring` in this scope"
     ]
    }
   ],
   "source": [
    "println!(\"Is tree cyclic? {}\", is_cyclic_undirected(&tree));\n",
    "println!(\"Is social_graph cyclic? {}\", is_cyclic_directed(&social_graph_a_year_later));\n",
    "println!(\"Is social_graph cyclic if we ignore edge direction? {}\", is_cyclic_undirected(&social_graph_a_year_later));\n",
    "println!(\"Is ring cyclic? {}\", is_cyclic_directed(&ring));"
   ]
  },
  {
   "cell_type": "markdown",
   "metadata": {},
   "source": [
    "Revisiting the types of graph: What is a DAG\n",
    "-----------------------------------------------------------------\n",
    "\n",
    "One constant of computer science is that data structures that are simple are used far more frequently than those which are complex. I started this article by claiming that graphs are the universal data structure. I went on to show how a the petgraph library can represent any datastructure from a variable, to a list, to a table, to a tree, to a dictionary/hashmap. All of these data structures, however, exist in far more efficent forms either directly as built in types in rust, or as provided in third party libraries. If you need to represent a list, tree or a table and nothing else, you should **never** use petgraph to do so. You should always use the most limited possible data structure which is capable of representing your data because doing so allows your compiler and typechecker to help you prevent bugs. If you write a function that takes a tree and does something with it, and it's type signature looks like:\n",
    "\n",
    "```rust\n",
    "fn cut_tree(tree: Tree) -> Stump {\n",
    "```\n",
    "\n",
    "Then you only need to test your function for various possible trees that could be given to that function. The type checker will ensure that only trees are passed to that function, and you do not need to wory about edge cases where something other than a tree might have been passed to it. But if your type signature looks like:\n",
    "\n",
    "```rust\n",
    "fn cut_tree(tree: Graph) -> Stump {\n",
    "```\n",
    "\n",
    "You'll need to test for all sorts of data structures that aren't trees in order to be sure that your program will behave correctly and will not crash.\n",
    "\n",
    "The simplest, and therefore most common type of data structure that you actually need the power of petgraph to represent is called a **DAG** or **D**irected **A**cyclic **G**raph. DAGs are a lot like trees but their branches can merge.\n",
    "\n",
    "This is a tree:"
   ]
  },
  {
   "cell_type": "code",
   "execution_count": 22,
   "metadata": {},
   "outputs": [
    {
     "ename": "Error",
     "evalue": "cannot find function `draw_graph` in this scope",
     "output_type": "error",
     "traceback": [
      "draw_graph(&tree);",
      "\u001b[91m^^^^^^^^^^\u001b[0m \u001b[94mnot found in this scope\u001b[0m",
      "cannot find function `draw_graph` in this scope"
     ]
    },
    {
     "ename": "Error",
     "evalue": "cannot find value `tree` in this scope",
     "output_type": "error",
     "traceback": [
      "draw_graph(&tree);",
      "\u001b[91m            ^^^^\u001b[0m \u001b[94mnot found in this scope\u001b[0m",
      "cannot find value `tree` in this scope"
     ]
    }
   ],
   "source": [
    "draw_graph(&tree);"
   ]
  },
  {
   "cell_type": "markdown",
   "metadata": {},
   "source": [
    "And this is a DAG"
   ]
  },
  {
   "cell_type": "code",
   "execution_count": 23,
   "metadata": {},
   "outputs": [
    {
     "ename": "Error",
     "evalue": "cannot find value `tree` in this scope",
     "output_type": "error",
     "traceback": [
      "let mut dag = tree.clone();",
      "\u001b[91m              ^^^^\u001b[0m \u001b[94mnot found in this scope\u001b[0m",
      "cannot find value `tree` in this scope"
     ]
    },
    {
     "ename": "Error",
     "evalue": "cannot find value `tree_item4` in this scope",
     "output_type": "error",
     "traceback": [
      "dag.add_edge(tree_item4, dag_item_f, \"\");",
      "\u001b[91m             ^^^^^^^^^^\u001b[0m \u001b[94mnot found in this scope\u001b[0m",
      "cannot find value `tree_item4` in this scope"
     ]
    },
    {
     "ename": "Error",
     "evalue": "cannot find value `tree_item5` in this scope",
     "output_type": "error",
     "traceback": [
      "dag.add_edge(tree_item5, dag_item_f, \"\");",
      "\u001b[91m             ^^^^^^^^^^\u001b[0m \u001b[94mnot found in this scope\u001b[0m",
      "cannot find value `tree_item5` in this scope"
     ]
    },
    {
     "ename": "Error",
     "evalue": "cannot find function `draw_graph` in this scope",
     "output_type": "error",
     "traceback": [
      "draw_graph(&dag);",
      "\u001b[91m^^^^^^^^^^\u001b[0m \u001b[94mnot found in this scope\u001b[0m",
      "cannot find function `draw_graph` in this scope"
     ]
    }
   ],
   "source": [
    "let mut dag = tree.clone();\n",
    "let dag_item_f = dag.add_node(\"f\");\n",
    "dag.add_edge(tree_item4, dag_item_f, \"\");\n",
    "dag.add_edge(tree_item5, dag_item_f, \"\");\n",
    "draw_graph(&dag);"
   ]
  },
  {
   "cell_type": "markdown",
   "metadata": {},
   "source": [
    "There is a certain hierarchy of data structures in computer science. All singletons are lists, all lists are tables. All lists are also trees. All trees (IFF they're edges are directed) are DAGs.\n",
    "\n",
    "You can tell if a graph is a tree by running the `is_cyclic_undirected` function on it. If this function returns `false`, you're working with a tree."
   ]
  },
  {
   "cell_type": "code",
   "execution_count": 24,
   "metadata": {},
   "outputs": [
    {
     "ename": "Error",
     "evalue": "unresolved import `petgraph`",
     "output_type": "error",
     "traceback": [
      "use petgraph::*;",
      "\u001b[91m    ^^^^^^^^\u001b[0m \u001b[94muse of undeclared type or module `petgraph`\u001b[0m",
      "unresolved import `petgraph`"
     ]
    }
   ],
   "source": [
    "use petgraph::*;"
   ]
  },
  {
   "cell_type": "code",
   "execution_count": 25,
   "metadata": {},
   "outputs": [
    {
     "ename": "Error",
     "evalue": "failed to resolve: use of undeclared type or module `petgraph`",
     "output_type": "error",
     "traceback": [
      "  Ix: petgraph::graph::IndexType",
      "\u001b[91m      ^^^^^^^^\u001b[0m \u001b[94muse of undeclared type or module `petgraph`\u001b[0m",
      "failed to resolve: use of undeclared type or module `petgraph`"
     ]
    },
    {
     "ename": "Error",
     "evalue": "cannot find trait `EdgeType` in this scope",
     "output_type": "error",
     "traceback": [
      "  Ty: EdgeType,",
      "\u001b[91m      ^^^^^^^^\u001b[0m \u001b[94mnot found in this scope\u001b[0m",
      "cannot find trait `EdgeType` in this scope"
     ]
    },
    {
     "ename": "Error",
     "evalue": "cannot find type `Graph` in this scope",
     "output_type": "error",
     "traceback": [
      "fn is_tree<'a, N: 'a, E: 'a, Ty, Ix>(g: &'a Graph<N, E, Ty, Ix>) -> bool",
      "\u001b[91m                                            ^^^^^\u001b[0m \u001b[94mnot found in this scope\u001b[0m",
      "cannot find type `Graph` in this scope"
     ]
    },
    {
     "ename": "Error",
     "evalue": "cannot find function `is_cyclic_undirected` in this scope",
     "output_type": "error",
     "traceback": [
      "    return !is_cyclic_undirected(g);",
      "\u001b[91m            ^^^^^^^^^^^^^^^^^^^^\u001b[0m \u001b[94mnot found in this scope\u001b[0m",
      "cannot find function `is_cyclic_undirected` in this scope"
     ]
    },
    {
     "ename": "Error",
     "evalue": "cannot find value `tree` in this scope",
     "output_type": "error",
     "traceback": [
      "println!(\"Is tree a tree? {}\", is_tree(&tree));",
      "\u001b[91m                                        ^^^^\u001b[0m \u001b[94mnot found in this scope\u001b[0m",
      "cannot find value `tree` in this scope"
     ]
    },
    {
     "ename": "Error",
     "evalue": "cannot find value `dag` in this scope",
     "output_type": "error",
     "traceback": [
      "println!(\"Is dag a tree? {}\", is_tree(&dag));",
      "\u001b[91m                                       ^^^\u001b[0m \u001b[94mnot found in this scope\u001b[0m",
      "cannot find value `dag` in this scope"
     ]
    }
   ],
   "source": [
    "fn is_tree<'a, N: 'a, E: 'a, Ty, Ix>(g: &'a Graph<N, E, Ty, Ix>) -> bool\n",
    " where\n",
    "  Ty: EdgeType,\n",
    "  Ix: petgraph::graph::IndexType\n",
    "{\n",
    "    return !is_cyclic_undirected(g);\n",
    "}\n",
    "\n",
    "println!(\"Is tree a tree? {}\", is_tree(&tree));\n",
    "println!(\"Is dag a tree? {}\", is_tree(&dag));"
   ]
  },
  {
   "cell_type": "markdown",
   "metadata": {},
   "source": [
    "You can tell if a graph is a DAG if it is directed and `is_cyclic_directed` returns `false`."
   ]
  },
  {
   "cell_type": "code",
   "execution_count": 26,
   "metadata": {},
   "outputs": [
    {
     "ename": "Error",
     "evalue": "failed to resolve: use of undeclared type or module `petgraph`",
     "output_type": "error",
     "traceback": [
      "  Ix: petgraph::graph::IndexType",
      "\u001b[91m      ^^^^^^^^\u001b[0m \u001b[94muse of undeclared type or module `petgraph`\u001b[0m",
      "failed to resolve: use of undeclared type or module `petgraph`"
     ]
    },
    {
     "ename": "Error",
     "evalue": "cannot find trait `EdgeType` in this scope",
     "output_type": "error",
     "traceback": [
      "  Ty: EdgeType,",
      "\u001b[91m      ^^^^^^^^\u001b[0m \u001b[94mnot found in this scope\u001b[0m",
      "cannot find trait `EdgeType` in this scope"
     ]
    },
    {
     "ename": "Error",
     "evalue": "cannot find type `Graph` in this scope",
     "output_type": "error",
     "traceback": [
      "fn is_dag<'a, N: 'a, E: 'a, Ty, Ix>(g: &'a Graph<N, E, Ty, Ix>) -> bool",
      "\u001b[91m                                           ^^^^^\u001b[0m \u001b[94mnot found in this scope\u001b[0m",
      "cannot find type `Graph` in this scope"
     ]
    },
    {
     "ename": "Error",
     "evalue": "cannot find function `is_cyclic_directed` in this scope",
     "output_type": "error",
     "traceback": [
      "    return g.is_directed() && !is_cyclic_directed(g);",
      "\u001b[91m                               ^^^^^^^^^^^^^^^^^^\u001b[0m \u001b[94mnot found in this scope\u001b[0m",
      "cannot find function `is_cyclic_directed` in this scope"
     ]
    },
    {
     "ename": "Error",
     "evalue": "cannot find value `tree` in this scope",
     "output_type": "error",
     "traceback": [
      "println!(\"Is tree a DAG? {}\", is_dag(&tree));",
      "\u001b[91m                                      ^^^^\u001b[0m \u001b[94mnot found in this scope\u001b[0m",
      "cannot find value `tree` in this scope"
     ]
    },
    {
     "ename": "Error",
     "evalue": "cannot find value `dag` in this scope",
     "output_type": "error",
     "traceback": [
      "println!(\"Is dag a DAG? {}\", is_dag(&dag));",
      "\u001b[91m                                     ^^^\u001b[0m \u001b[94mnot found in this scope\u001b[0m",
      "cannot find value `dag` in this scope"
     ]
    },
    {
     "ename": "Error",
     "evalue": "cannot find value `ring` in this scope",
     "output_type": "error",
     "traceback": [
      "println!(\"Is ring a DAG? {}\", is_dag(&ring));",
      "\u001b[91m                                      ^^^^\u001b[0m \u001b[94mnot found in this scope\u001b[0m",
      "cannot find value `ring` in this scope"
     ]
    }
   ],
   "source": [
    "fn is_dag<'a, N: 'a, E: 'a, Ty, Ix>(g: &'a Graph<N, E, Ty, Ix>) -> bool\n",
    " where\n",
    "  Ty: EdgeType,\n",
    "  Ix: petgraph::graph::IndexType\n",
    "{\n",
    "    return g.is_directed() && !is_cyclic_directed(g);\n",
    "}\n",
    "\n",
    "println!(\"Is tree a DAG? {}\", is_dag(&tree));\n",
    "println!(\"Is dag a DAG? {}\", is_dag(&dag));\n",
    "println!(\"Is ring a DAG? {}\", is_dag(&ring));"
   ]
  },
  {
   "cell_type": "markdown",
   "metadata": {},
   "source": [
    "What are some examples of DAGs in the wild?\n",
    "-------------------------------------------------------------------\n",
    "\n",
    "- **POSIX file trees**: At a low level, the POSIX file system is implemented as a DAG. I know, we refer to the directory hierarchy as a file *tree*, but hard links allow for the merging of branches which makes them not trees in all cases. Since hard links can only be used to link two files, and not directories, cycles cannot be formed. At a higher level, if you take symlinks (which are actually just a special kind of file) into account, file trees are not even DAGs, but generalized graphs. \n",
    "\n",
    "- **Dependency graphs**: Traditional package managers in which  packages depend on one another, end up representing a DAG of packages. You cannot have cycles in such a graph, because the package manager never installs a package before it's dependencies have been installed.\n",
    "\n",
    "- **Makefiles**: Makefiles are another case of doing steps which depend on eachother.\n",
    "\n",
    "- **init system services**: In init systems such as sysv init and systemd the same property applies, that you start services who's dependencies have started first.\n",
    "\n",
    "- **Rust struct declarations**: In rust, the structs which you have declared form a DAG. They cannot form a cycle because rust needs to know how large a struct within a struct is at compile time. This can be worked around by including pointers/references to other structs rather than including them directly.\n",
    "\n",
    "- **Git commits**: Just the vocabulary of `branches` should suggest that there is a tree of git commits, but the existance of `merge` commits means that we're working with a DAG.\n",
    "\n",
    "- **IPFS nodes**: In IPFS, which is a distributed Hashed DAG there are no cycles.\n",
    "\n",
    "Why are DAGs so common?\n",
    "-----------------------------------------\n",
    "\n",
    "There are two properties at play here which make DAGs extremely usefull in computer science. The first is `watershedding`. Watershedding is the idea that some regions of your graph are clearly isolated from others. Remember the origional dag I mentioned?"
   ]
  },
  {
   "cell_type": "code",
   "execution_count": 27,
   "metadata": {},
   "outputs": [
    {
     "ename": "Error",
     "evalue": "cannot find function `draw_graph` in this scope",
     "output_type": "error",
     "traceback": [
      "draw_graph(&dag);",
      "\u001b[91m^^^^^^^^^^\u001b[0m \u001b[94mnot found in this scope\u001b[0m",
      "cannot find function `draw_graph` in this scope"
     ]
    },
    {
     "ename": "Error",
     "evalue": "cannot find value `dag` in this scope",
     "output_type": "error",
     "traceback": [
      "draw_graph(&dag);",
      "\u001b[91m            ^^^\u001b[0m \u001b[94mnot found in this scope\u001b[0m",
      "cannot find value `dag` in this scope"
     ]
    }
   ],
   "source": [
    "draw_graph(&dag);"
   ]
  },
  {
   "cell_type": "markdown",
   "metadata": {},
   "source": [
    "There is no way to get from `e` to `b`. That's a good thing in some cases, and is the reason why POSIX file DAGs are DAGs and not generalized graphs. You want to be certain that when you type in\n",
    "\n",
    "```bash\n",
    "$ rm -rf /a/b/e\n",
    "```\n",
    "\n",
    "You'll be deleting only `e` and `f` and not your entire file system. If there wasever a loop like this:"
   ]
  },
  {
   "cell_type": "code",
   "execution_count": 28,
   "metadata": {},
   "outputs": [
    {
     "ename": "Error",
     "evalue": "cannot find value `dag` in this scope",
     "output_type": "error",
     "traceback": [
      "let mut general_graph = dag.clone();",
      "\u001b[91m                        ^^^\u001b[0m \u001b[94mnot found in this scope\u001b[0m",
      "cannot find value `dag` in this scope"
     ]
    },
    {
     "ename": "Error",
     "evalue": "cannot find value `dag_item_f` in this scope",
     "output_type": "error",
     "traceback": [
      "general_graph.add_edge(dag_item_f, tree_item1, \"\");",
      "\u001b[91m                       ^^^^^^^^^^\u001b[0m \u001b[94mnot found in this scope\u001b[0m",
      "cannot find value `dag_item_f` in this scope"
     ]
    },
    {
     "ename": "Error",
     "evalue": "cannot find value `tree_item1` in this scope",
     "output_type": "error",
     "traceback": [
      "general_graph.add_edge(dag_item_f, tree_item1, \"\");",
      "\u001b[91m                                   ^^^^^^^^^^\u001b[0m \u001b[94mnot found in this scope\u001b[0m",
      "cannot find value `tree_item1` in this scope"
     ]
    },
    {
     "ename": "Error",
     "evalue": "cannot find function `draw_graph` in this scope",
     "output_type": "error",
     "traceback": [
      "draw_graph(&general_graph);",
      "\u001b[91m^^^^^^^^^^\u001b[0m \u001b[94mnot found in this scope\u001b[0m",
      "cannot find function `draw_graph` in this scope"
     ]
    }
   ],
   "source": [
    "let mut general_graph = dag.clone();\n",
    "general_graph.add_edge(dag_item_f, tree_item1, \"\");\n",
    "draw_graph(&general_graph);"
   ]
  },
  {
   "cell_type": "markdown",
   "metadata": {},
   "source": [
    "Then you could end up deleting all your files accidentally, and that would make POSIX harder to use and less predictable."
   ]
  },
  {
   "cell_type": "markdown",
   "metadata": {},
   "source": [
    "The second reason why DAGs are so common is more fundamental. With DAGs there is always a **clear order of operations**. That doesn't just make it easier to work with DAGs than general graphs, it makes a lot of things possible which simply cannot done otherwise.\n",
    "\n",
    "The algorithm which tells you the order of operations for a DAG is called a **topological sort**, and is defined in petgraph's algo library as the [`toposort`](https://docs.rs/petgraph/0.4.13/petgraph/algo/fn.toposort.html) function."
   ]
  },
  {
   "cell_type": "code",
   "execution_count": 29,
   "metadata": {},
   "outputs": [
    {
     "ename": "Error",
     "evalue": "cannot find function `draw_graph` in this scope",
     "output_type": "error",
     "traceback": [
      "draw_graph(&tree);",
      "\u001b[91m^^^^^^^^^^\u001b[0m \u001b[94mnot found in this scope\u001b[0m",
      "cannot find function `draw_graph` in this scope"
     ]
    },
    {
     "ename": "Error",
     "evalue": "cannot find value `tree` in this scope",
     "output_type": "error",
     "traceback": [
      "draw_graph(&tree);",
      "\u001b[91m            ^^^^\u001b[0m \u001b[94mnot found in this scope\u001b[0m",
      "cannot find value `tree` in this scope"
     ]
    }
   ],
   "source": [
    "draw_graph(&tree);"
   ]
  },
  {
   "cell_type": "code",
   "execution_count": 30,
   "metadata": {},
   "outputs": [
    {
     "ename": "Error",
     "evalue": "failed to resolve: use of undeclared type or module `petgraph`",
     "output_type": "error",
     "traceback": [
      "  Ix: petgraph::graph::IndexType",
      "\u001b[91m      ^^^^^^^^\u001b[0m \u001b[94muse of undeclared type or module `petgraph`\u001b[0m",
      "failed to resolve: use of undeclared type or module `petgraph`"
     ]
    },
    {
     "ename": "Error",
     "evalue": "cannot find trait `EdgeType` in this scope",
     "output_type": "error",
     "traceback": [
      "  Ty: EdgeType,",
      "\u001b[91m      ^^^^^^^^\u001b[0m \u001b[94mnot found in this scope\u001b[0m",
      "cannot find trait `EdgeType` in this scope"
     ]
    },
    {
     "ename": "Error",
     "evalue": "cannot find type `Graph` in this scope",
     "output_type": "error",
     "traceback": [
      "fn print_topo_sort<'a, Ty, Ix>(g: &'a Graph<&'a str, &'a str, Ty, Ix>)",
      "\u001b[91m                                      ^^^^^\u001b[0m \u001b[94mnot found in this scope\u001b[0m",
      "cannot find type `Graph` in this scope"
     ]
    },
    {
     "ename": "Error",
     "evalue": "cannot find function `toposort` in this scope",
     "output_type": "error",
     "traceback": [
      "    match toposort(g, None){",
      "\u001b[91m          ^^^^^^^^\u001b[0m \u001b[94mnot found in this scope\u001b[0m",
      "cannot find function `toposort` in this scope"
     ]
    },
    {
     "ename": "Error",
     "evalue": "cannot find value `tree` in this scope",
     "output_type": "error",
     "traceback": [
      "print_topo_sort(&tree);",
      "\u001b[91m                 ^^^^\u001b[0m \u001b[94mnot found in this scope\u001b[0m",
      "cannot find value `tree` in this scope"
     ]
    }
   ],
   "source": [
    "fn print_topo_sort<'a, Ty, Ix>(g: &'a Graph<&'a str, &'a str, Ty, Ix>)\n",
    " where\n",
    "  Ty: EdgeType,\n",
    "  Ix: petgraph::graph::IndexType\n",
    "{\n",
    "    match toposort(g, None){\n",
    "        Ok(order) => {\n",
    "            print!(\"Sorted: \");\n",
    "            for i in order {\n",
    "                 g.node_weight(i).map(|weight| {\n",
    "                     print!(\"{}, \", weight);\n",
    "                     weight\n",
    "                 });\n",
    "             }\n",
    "        },\n",
    "        Err(err) => {\n",
    "            g.node_weight(err.node_id()).map(|weight|\n",
    "                println!(\"Error graph has cycle at node {}\", weight));\n",
    "        }\n",
    "    }\n",
    "    println!(\"\");\n",
    "}\n",
    "\n",
    "print_topo_sort(&tree);"
   ]
  },
  {
   "cell_type": "markdown",
   "metadata": {},
   "source": [
    "Note that topological sorts are by their very nature non-deterministic functions. The only guarantee is that dependencies come before dependents, but when two nodes are at the same level, they can come in any order. Here, the output is `Sorted tree: a, c, b, e, d`, but it could just as easilly have been `Sorted tree: a, b, c, d, e`."
   ]
  },
  {
   "cell_type": "code",
   "execution_count": 31,
   "metadata": {},
   "outputs": [
    {
     "ename": "Error",
     "evalue": "cannot find function `draw_graph` in this scope",
     "output_type": "error",
     "traceback": [
      "draw_graph(&dag);",
      "\u001b[91m^^^^^^^^^^\u001b[0m \u001b[94mnot found in this scope\u001b[0m",
      "cannot find function `draw_graph` in this scope"
     ]
    },
    {
     "ename": "Error",
     "evalue": "cannot find value `dag` in this scope",
     "output_type": "error",
     "traceback": [
      "draw_graph(&dag);",
      "\u001b[91m            ^^^\u001b[0m \u001b[94mnot found in this scope\u001b[0m",
      "cannot find value `dag` in this scope"
     ]
    },
    {
     "ename": "Error",
     "evalue": "cannot find function `print_topo_sort` in this scope",
     "output_type": "error",
     "traceback": [
      "print_topo_sort(&dag);",
      "\u001b[91m^^^^^^^^^^^^^^^\u001b[0m \u001b[94mnot found in this scope\u001b[0m",
      "cannot find function `print_topo_sort` in this scope"
     ]
    },
    {
     "ename": "Error",
     "evalue": "cannot find value `dag` in this scope",
     "output_type": "error",
     "traceback": [
      "print_topo_sort(&dag);",
      "\u001b[91m                 ^^^\u001b[0m \u001b[94mnot found in this scope\u001b[0m",
      "cannot find value `dag` in this scope"
     ]
    }
   ],
   "source": [
    "draw_graph(&dag);\n",
    "print_topo_sort(&dag);"
   ]
  },
  {
   "cell_type": "code",
   "execution_count": null,
   "metadata": {},
   "outputs": [],
   "source": []
  },
  {
   "cell_type": "code",
   "execution_count": 32,
   "metadata": {},
   "outputs": [
    {
     "ename": "Error",
     "evalue": "cannot find function `print_topo_sort` in this scope",
     "output_type": "error",
     "traceback": [
      "print_topo_sort(&general_graph);",
      "\u001b[91m^^^^^^^^^^^^^^^\u001b[0m \u001b[94mnot found in this scope\u001b[0m",
      "cannot find function `print_topo_sort` in this scope"
     ]
    },
    {
     "ename": "Error",
     "evalue": "cannot find value `general_graph` in this scope",
     "output_type": "error",
     "traceback": [
      "print_topo_sort(&general_graph);",
      "\u001b[91m                 ^^^^^^^^^^^^^\u001b[0m \u001b[94mnot found in this scope\u001b[0m",
      "cannot find value `general_graph` in this scope"
     ]
    }
   ],
   "source": [
    "print_topo_sort(&general_graph);"
   ]
  },
  {
   "cell_type": "markdown",
   "metadata": {},
   "source": [
    "DAGs are reversible\n",
    "-----------------------------\n",
    "\n",
    "If you reverse the direction of the edges in a DAG, you end up with a DAG. This is an important thing to understand when working on a package manager, because if you want to uninstall a package and all of it's dependents, then you need to uninstall the dependents first. You can reverse the DAG with the [`reverse`](https://docs.rs/petgraph/0.4.13/petgraph/graph/struct.Graph.html#method.reverse) method, or, if you are working with a topolgical sort, simply by reversing the output of `toposort`."
   ]
  },
  {
   "cell_type": "markdown",
   "metadata": {},
   "source": [
    "More general graphs - Shortest path algorithms\n",
    "----------------------------------------------------------------------\n",
    "\n",
    "The other algorithms provided by petgraph are applicable to more general graphs. The best known are the shortest path and existant path algorithms. Specifically, the Dijkstra is widely taught as being a generally usefull and elegant algorithm in schools. I mentioned earlier that the values associated with edges in petgraph are called `weights` rather than `labels` as is done elsewhere. This is because these values can be used to calculate edge `cost` when evaluating the shortest distance algorithms. In the traditional map based questions, this cost is the literal distance (or travel time) between points. This cost can also be something else.\n",
    "\n",
    "Here are some example graphs that you might use shortest length algorithms on:\n",
    "\n",
    "- A computer network where the edge weights are the pings\n",
    "- A computer network where the edge weights are the monitary cost per byte\n",
    "- A computer network where the edge weights are both the pings AND the monitary cost per byte\n",
    "- A network of tax juristictions where the edge weights are tarifs and other taxes and fees\n",
    "- A market where the edge weights are cost of exchanging one good or security for another\n",
    "\n",
    "All of these can be modeled by petgraph, however, **you probably shouldn't use petgraph for geospatial graphs** you should use a specialized library or database for this. Postgres, for example, can store geospatial data using the postgis addon and use [pgRouting](http://pgrouting.org/) to find the shortest paths. Specialized geospatial routing engines are able to use spatial heuristics such as direction to significantly speed up route finding.\n",
    "\n",
    "Remember that old social graph example? Let's apply Dijkstra to it. Imagine that that kid Fred shares some sensitive private information on an employee of Lilly's. What is the most likely route by which the info got out? Lets say that such information is most likely to be shared between friends (with a virtual cost of 1), followed by sharing between familly members (lets give that a virtual cost of 2), and finally quite unlikely to be shared between collegues because they are accutely aware that sharing such information is illegal and wrong (cost of 5).\n",
    "\n",
    "Petgraph's Dijkstra algorithm, takes a graph, a starting point, ending point, and a cost function and outputs a list of edges that you need to follow to get from the starting point to the end point.\n",
    "\n",
    "```rust\n",
    "type declaration of dijkstra\n",
    "```\n",
    "\n",
    "Lets start by declaring the cost function for our social graph."
   ]
  },
  {
   "cell_type": "code",
   "execution_count": null,
   "metadata": {},
   "outputs": [],
   "source": [
    "fn rumor_cost(ew: Relationship) -> u8 {\n",
    "    match ew {\n",
    "        Relationship::Friend => 1,\n",
    "        Relationship::Father => 2,\n",
    "        Relationship::Mother => 2,\n",
    "        Relationship::Sister => 2,\n",
    "        Relationship::Brother => 2,\n",
    "        Relationship::Boss => 5,\n",
    "    }\n",
    "}"
   ]
  },
  {
   "cell_type": "markdown",
   "metadata": {},
   "source": [
    "Internal representation of graphs by petgraph\n",
    "------------------------------------------------------------------\n",
    "\n",
    "\n",
    "\n",
    "`Graph`s are stored in a simple adjacency list and the code is self explanitory:\n",
    "\n",
    "```rust\n",
    "pub struct Graph<N, E, Ty = Directed, Ix = DefaultIx> {\n",
    "    nodes: Vec<Node<N, Ix>>,\n",
    "    edges: Vec<Edge<E, Ix>>,\n",
    "    ty: PhantomData<Ty>,\n",
    "}\n",
    "```\n",
    "\n",
    "A vertex is refered to as a node and that labels are refered to as weights.\n",
    "\n",
    "```rust\n",
    "pub struct Node<N, Ix = DefaultIx> {\n",
    "    /// Associated node data.\n",
    "    pub weight: N,\n",
    "    /// Next edge in outgoing and incoming edge lists.\n",
    "    next: [EdgeIndex<Ix>; 2],\n",
    "}\n",
    "```\n",
    "...\n",
    "```rust\n",
    "pub struct Edge<E, Ix = DefaultIx> {\n",
    "    /// Associated edge data.\n",
    "    pub weight: E,\n",
    "    /// Next edge in outgoing and incoming edge lists.\n",
    "    next: [EdgeIndex<Ix>; 2],\n",
    "    /// Start and End node index\n",
    "    node: [NodeIndex<Ix>; 2],\n",
    "}\n",
    "```\n",
    "...\n",
    "\n",
    "\n"
   ]
  }
 ],
 "metadata": {
  "kernelspec": {
   "display_name": "Rust",
   "language": "rust",
   "name": "rust"
  },
  "language_info": {
   "codemirror_mode": "rust",
   "file_extension": ".rs",
   "mimetype": "text/rust",
   "name": "Rust",
   "pygment_lexer": "rust",
   "version": ""
  }
 },
 "nbformat": 4,
 "nbformat_minor": 2
}
