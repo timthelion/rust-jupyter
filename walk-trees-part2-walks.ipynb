{
 "cells": [
  {
   "cell_type": "markdown",
   "metadata": {},
   "source": [
    "Walk trees part 2: walks and selections\n",
    "----------\n",
    "- Author: [Timothy Hobbs](https://timothy.hobbs.cz)\n",
    "- License: [CC-BY-NC 4.0](https://creativecommons.org/licenses/by-nc/4.0/)\n",
    "- Written: 1.2020\n",
    "- Send PRs to: [github](https://github.com/timthelion/rust-jupyter)\n",
    "\n",
    "[project homepage](https://github.com/timthelion/petgraph-fsm) [ipynb](./walk-trees-part2-walks.ipynb)\n",
    "\n",
    "Walk trees are a novel algorithm for selecting regions of graphs.\n",
    "\n",
    "A walk is a connected subgraph of a graph. It is selected by selecting an alternating sequence of vertex's and edges. \n"
   ]
  },
  {
   "cell_type": "code",
   "execution_count": 2,
   "metadata": {},
   "outputs": [],
   "source": [
    ":dep petgraph-examples = {path=\"./petgraph-examples\"}"
   ]
  },
  {
   "cell_type": "code",
   "execution_count": 3,
   "metadata": {},
   "outputs": [],
   "source": [
    ":dep petgraph-evcxr = {path=\"./petgraph-evcxr\"}"
   ]
  },
  {
   "cell_type": "code",
   "execution_count": 4,
   "metadata": {},
   "outputs": [],
   "source": [
    ":dep petgraph-fsm = {path=\"./petgraph-fsm\"}"
   ]
  },
  {
   "cell_type": "code",
   "execution_count": 5,
   "metadata": {},
   "outputs": [],
   "source": [
    ":dep petgraph = {path=\"./petgraph\"}"
   ]
  },
  {
   "cell_type": "code",
   "execution_count": 6,
   "metadata": {},
   "outputs": [],
   "source": [
    "use std::collections::HashMap;\n",
    "use petgraph::*;\n",
    "use petgraph::data::*;\n",
    "use petgraph::visit::*;\n",
    "use petgraph::graph::*;\n",
    "use std::hash::Hash;"
   ]
  },
  {
   "cell_type": "code",
   "execution_count": 14,
   "metadata": {},
   "outputs": [],
   "source": [
    "pub struct Overlay<'a, G, E, N, EW, NW, ER, A>\n",
    "where\n",
    "    G: GraphBase<EdgeId = E, NodeId = N> + Data<EdgeWeight = EW, NodeWeight = NW>,\n",
    "    ER: EdgeRef<Weight = EW, EdgeId = E, NodeId = N>,\n",
    "    E: Copy + Eq + Hash,\n",
    "    N: Copy + Eq + Hash,\n",
    "{\n",
    "    nodes: HashMap<N, A>,\n",
    "    edges: HashMap<E, A>,\n",
    "    edge_refs: HashMap<E, ER>,\n",
    "    graph: &'a G,\n",
    "}"
   ]
  },
  {
   "cell_type": "code",
   "execution_count": 20,
   "metadata": {},
   "outputs": [],
   "source": [
    "pub type Selection<'a, G, E, N, EW, NW, ER> = Overlay<'a, G, E, N, EW, NW, ER, ()>;"
   ]
  },
  {
   "cell_type": "code",
   "execution_count": 46,
   "metadata": {},
   "outputs": [],
   "source": [
    "enum Phase<'a, N, E> {\n",
    "    Nodes(std::collections::hash_map::Iter<'a, N, ()>),\n",
    "    Edges(std::collections::hash_map::Iter<'a, E, ()>),\n",
    "}\n",
    "\n",
    "pub struct SelectedItems<'a, G, E, N, EW, NW, ER>\n",
    "where\n",
    "    G: GraphBase<EdgeId = E, NodeId = N> + Data<EdgeWeight = EW, NodeWeight = NW> + DataMap,\n",
    "    ER: EdgeRef<Weight = EW, EdgeId = E, NodeId = N>,\n",
    "    E: Copy + Eq + Hash,\n",
    "    N: Copy + Eq + Hash,\n",
    "{\n",
    "    selection: &'a Selection<'a, G, E, N, EW, NW, ER>,\n",
    "    phase: Phase<'a, N, E>,\n",
    "    node_indexes: HashMap<N, usize>,\n",
    "}"
   ]
  },
  {
   "cell_type": "code",
   "execution_count": 51,
   "metadata": {},
   "outputs": [],
   "source": [
    "impl<'a, G, E, N, EW, NW, ER> Iterator for SelectedItems<'a, G, E, N, EW, NW, ER>\n",
    "where\n",
    "    G: GraphBase<EdgeId = E, NodeId = N> + Data<EdgeWeight = EW, NodeWeight = NW> + DataMap,\n",
    "    ER: EdgeRef<Weight = EW, EdgeId = E, NodeId = N>,\n",
    "    G::NodeWeight: Clone,\n",
    "    G::EdgeWeight: Clone,\n",
    "    E: Copy + Eq + Hash,\n",
    "    N: Copy + Eq + Hash,\n",
    "{\n",
    "    type Item = Element<G::NodeWeight, G::EdgeWeight>;\n",
    "    \n",
    "    fn next(&mut self) -> Option<Self::Item> {\n",
    "        if let Phase::Nodes(ref mut nodes) = self.phase {\n",
    "            match nodes.next() {\n",
    "                Some(node) =>  {\n",
    "                    self.node_indexes.insert(*node.0, self.node_indexes.len());\n",
    "                    return Some(Element::Node {\n",
    "                        weight: self.selection.graph.node_weight(*node.0).unwrap().clone()\n",
    "                    })\n",
    "                },\n",
    "                None => self.phase = Phase::Edges(self.selection.edges.iter()),\n",
    "            }\n",
    "        }\n",
    "        if let Phase::Edges(ref mut edges) = self.phase {\n",
    "            match edges.next() {\n",
    "                Some(edge) => return match self.selection.edge_refs.get(edge.0) {\n",
    "                    Some(edge_ref) => Some(Element::Edge {\n",
    "                        weight: edge_ref.weight().clone(),\n",
    "                        source: *self.node_indexes.get(&edge_ref.source()).unwrap(),\n",
    "                        target: *self.node_indexes.get(&edge_ref.target()).unwrap(),\n",
    "                    }),\n",
    "                    None => return None,\n",
    "                },\n",
    "                None => return None,\n",
    "            }\n",
    "        }\n",
    "        None\n",
    "    }\n",
    "}"
   ]
  },
  {
   "cell_type": "code",
   "execution_count": null,
   "metadata": {},
   "outputs": [],
   "source": []
  },
  {
   "cell_type": "code",
   "execution_count": 11,
   "metadata": {},
   "outputs": [
    {
     "ename": "Error",
     "evalue": "variable `cellA1` should have a snake case name",
     "output_type": "error",
     "traceback": [
      "        self.nodes.insert(node, ());",
      "\u001b[91m        ^^^^^^\u001b[0m \u001b[94m\u001b[0m",
      "variable `cellA1` should have a snake case name"
     ]
    },
    {
     "ename": "Error",
     "evalue": "variable `cellA2` should have a snake case name",
     "output_type": "error",
     "traceback": [
      "    }",
      "\u001b[91m        ^^^^^^\u001b[0m \u001b[94m\u001b[0m",
      "variable `cellA2` should have a snake case name"
     ]
    },
    {
     "ename": "Error",
     "evalue": "variable `cellA3` should have a snake case name",
     "output_type": "error",
     "traceback": [
      "    pub fn deselect_edge<'b>(&'b mut self, edge: E) {",
      "\u001b[91m        ^^^^^^\u001b[0m \u001b[94m\u001b[0m",
      "variable `cellA3` should have a snake case name"
     ]
    },
    {
     "ename": "Error",
     "evalue": "variable `cellB1` should have a snake case name",
     "output_type": "error",
     "traceback": [
      "    }",
      "\u001b[91m        ^^^^^^\u001b[0m \u001b[94m\u001b[0m",
      "variable `cellB1` should have a snake case name"
     ]
    },
    {
     "ename": "Error",
     "evalue": "variable `cellB2` should have a snake case name",
     "output_type": "error",
     "traceback": [
      "    fn deselect_node<'b>(&'b mut self, node: N) {",
      "\u001b[91m        ^^^^^^\u001b[0m \u001b[94m\u001b[0m",
      "variable `cellB2` should have a snake case name"
     ]
    },
    {
     "ename": "Error",
     "evalue": "variable `cellB3` should have a snake case name",
     "output_type": "error",
     "traceback": [
      "        self.nodes.remove(&node);",
      "\u001b[91m        ^^^^^^\u001b[0m \u001b[94m\u001b[0m",
      "variable `cellB3` should have a snake case name"
     ]
    },
    {
     "ename": "Error",
     "evalue": "variable `cellC1` should have a snake case name",
     "output_type": "error",
     "traceback": [
      "}",
      "\u001b[91m        ^^^^^^\u001b[0m \u001b[94m\u001b[0m",
      "variable `cellC1` should have a snake case name"
     ]
    },
    {
     "ename": "Error",
     "evalue": "cannot find type `Selection` in this scope",
     "output_type": "error",
     "traceback": [
      "impl<'a, G, E, N> Selection<'a, G, E, N>",
      "\u001b[91m                  ^^^^^^^^^\u001b[0m \u001b[94m\u001b[0m",
      "cannot find type `Selection` in this scope"
     ]
    },
    {
     "ename": "Error",
     "evalue": "wrong number of type arguments: expected at least 1, found 0",
     "output_type": "error",
     "traceback": [
      "    pub fn select_edge<'b>(&'b mut self, edge: EdgeReference) {",
      "\u001b[91m                                               ^^^^^^^^^^^^^\u001b[0m \u001b[94mexpected at least 1 type argument\u001b[0m",
      "wrong number of type arguments: expected at least 1, found 0"
     ]
    }
   ],
   "source": [
    "impl<'a, G, E, N> Selection<'a, G, E, N>\n",
    "where\n",
    "    G: GraphBase<EdgeId = E, NodeId = N>,\n",
    "    E: Copy + Eq + Hash,\n",
    "    N: Copy + Eq + Hash,\n",
    "{\n",
    "    /*\n",
    "    pub fn draw_selection() {\n",
    "        \n",
    "    }\n",
    "    */\n",
    "    pub fn select_edge<'b>(&'b mut self, edge: EdgeReference) {\n",
    "        self.edges.insert(edge, ());        \n",
    "    }\n",
    "    pub fn select_node<'b>(&'b mut self, node: N) {\n",
    "        self.nodes.insert(node, ());\n",
    "    }\n",
    "    pub fn deselect_edge<'b>(&'b mut self, edge: E) {\n",
    "        self.edges.remove(&edge);\n",
    "    }\n",
    "    fn deselect_node<'b>(&'b mut self, node: N) {\n",
    "        self.nodes.remove(&node);\n",
    "    }\n",
    "}"
   ]
  }
 ],
 "metadata": {
  "kernelspec": {
   "display_name": "Rust",
   "language": "rust",
   "name": "rust"
  },
  "language_info": {
   "codemirror_mode": "rust",
   "file_extension": ".rs",
   "mimetype": "text/rust",
   "name": "Rust",
   "pygment_lexer": "rust",
   "version": ""
  }
 },
 "nbformat": 4,
 "nbformat_minor": 2
}
