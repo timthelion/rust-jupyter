{
 "cells": [
  {
   "cell_type": "markdown",
   "metadata": {},
   "source": [
    "Walk trees part 2: walks and selections\n",
    "----------\n",
    "- Author: [Timothy Hobbs](https://timothy.hobbs.cz)\n",
    "- License: [CC-BY-NC 4.0](https://creativecommons.org/licenses/by-nc/4.0/)\n",
    "- Written: 1.2020\n",
    "- Send PRs to: [github](https://github.com/timthelion/rust-jupyter)\n",
    "\n",
    "[project homepage](https://github.com/timthelion/petgraph-fsm) [ipynb](./walk-trees-part2-walks.ipynb)\n",
    "\n",
    "Walk trees are a novel algorithm for selecting regions of graphs.\n",
    "\n",
    "A walk is a connected subgraph of a graph. It is selected by selecting an alternating sequence of vertex's and edges. \n"
   ]
  },
  {
   "cell_type": "code",
   "execution_count": 2,
   "metadata": {},
   "outputs": [],
   "source": [
    ":dep petgraph-examples = {path=\"./petgraph-examples\"}"
   ]
  },
  {
   "cell_type": "code",
   "execution_count": 3,
   "metadata": {},
   "outputs": [],
   "source": [
    ":dep petgraph-evcxr = {path=\"./petgraph-evcxr\"}"
   ]
  },
  {
   "cell_type": "code",
   "execution_count": 4,
   "metadata": {},
   "outputs": [],
   "source": [
    ":dep petgraph-fsm = {path=\"./petgraph-fsm\"}"
   ]
  },
  {
   "cell_type": "code",
   "execution_count": 5,
   "metadata": {},
   "outputs": [],
   "source": [
    ":dep petgraph = {path=\"./petgraph\"}"
   ]
  },
  {
   "cell_type": "code",
   "execution_count": 6,
   "metadata": {},
   "outputs": [],
   "source": [
    "use std::collections::HashMap;\n",
    "use petgraph::*;\n",
    "use petgraph::data::*;\n",
    "use petgraph::visit::*;\n",
    "use petgraph::graph::*;\n",
    "use petgraph::dot::*;\n",
    "use petgraph_evcxr::*;\n",
    "use std::hash::Hash;"
   ]
  },
  {
   "cell_type": "code",
   "execution_count": 7,
   "metadata": {},
   "outputs": [],
   "source": [
    "pub struct Overlay<'a, G, E, N, EW, NW, ER, A>\n",
    "where\n",
    "    &'a G: GraphBase<EdgeId = E, NodeId = N> + Data<EdgeWeight = EW, NodeWeight = NW>,\n",
    "    ER: EdgeRef<Weight = EW, EdgeId = E, NodeId = N>,\n",
    "    E: Copy + Eq + Hash,\n",
    "    N: Copy + Eq + Hash,\n",
    "{\n",
    "    nodes: HashMap<N, A>,\n",
    "    edges: HashMap<E, A>,\n",
    "    edge_refs: HashMap<E, ER>,\n",
    "    graph: &'a G,\n",
    "}"
   ]
  },
  {
   "cell_type": "code",
   "execution_count": 8,
   "metadata": {},
   "outputs": [],
   "source": [
    "pub type Selection<'a, G, E, N, EW, NW, ER> = Overlay<'a, G, E, N, EW, NW, ER, ()>;"
   ]
  },
  {
   "cell_type": "code",
   "execution_count": 9,
   "metadata": {},
   "outputs": [],
   "source": [
    "#[derive(Debug, Clone)]\n",
    "enum Phase<'a, N, E> {\n",
    "    Nodes(std::collections::hash_map::Iter<'a, N, ()>),\n",
    "    Edges(std::collections::hash_map::Iter<'a, E, ()>),\n",
    "}\n",
    "\n",
    "pub struct SelectedItems<'a, G, E, N, EW, NW, ER>\n",
    "where\n",
    "    &'a G: GraphBase<EdgeId = E, NodeId = N> + Data<EdgeWeight = EW, NodeWeight = NW> + DataMap,\n",
    "    ER: EdgeRef<Weight = EW, EdgeId = E, NodeId = N>,\n",
    "    E: Copy + Eq + Hash,\n",
    "    N: Copy + Eq + Hash,\n",
    "{\n",
    "    selection: &'a Selection<'a, G, E, N, EW, NW, ER>,\n",
    "    phase: Phase<'a, N, E>,\n",
    "    node_indexes: HashMap<N, usize>,\n",
    "}"
   ]
  },
  {
   "cell_type": "code",
   "execution_count": 21,
   "metadata": {},
   "outputs": [],
   "source": [
    "impl<'a, G, E, N, EW, NW, ER> Selection<'a, G, E, N, EW, NW, ER>\n",
    "where\n",
    "    &'a G: GraphBase<EdgeId = E, NodeId = N> + Data<EdgeWeight = EW, NodeWeight = NW> + DataMap,\n",
    "    ER: EdgeRef<Weight = EW, EdgeId = E, NodeId = N>,\n",
    "    E: Copy + Eq + Hash,\n",
    "    N: Copy + Eq + Hash,\n",
    "{\n",
    "    fn to_elements(&'a self) -> SelectedItems<'a, G, E, N, EW, NW, ER>{\n",
    "        SelectedItems{\n",
    "            selection: self,\n",
    "            phase: Phase::Nodes(self.nodes.iter()),\n",
    "            node_indexes: HashMap::new(),\n",
    "        }\n",
    "    }\n",
    "}"
   ]
  },
  {
   "cell_type": "code",
   "execution_count": 10,
   "metadata": {},
   "outputs": [],
   "source": [
    "impl<'a, G, E, N, EW, NW, ER> Iterator for SelectedItems<'a, G, E, N, EW, NW, ER>\n",
    "where\n",
    "    &'a G: GraphBase<EdgeId = E, NodeId = N> +\n",
    "           Data<EdgeWeight = EW, NodeWeight = NW> +\n",
    "           DataMap,\n",
    "    NW: Clone,\n",
    "    EW: Clone,\n",
    "    ER: EdgeRef<Weight = EW, EdgeId = E, NodeId = N>,\n",
    "    E: Copy + Eq + Hash,\n",
    "    N: Copy + Eq + Hash,\n",
    "{\n",
    "    type Item = Element<NW, EW>;\n",
    "    \n",
    "    fn next(&mut self) -> Option<Self::Item> {\n",
    "        if let Phase::Nodes(ref mut nodes) = self.phase {\n",
    "            match nodes.next() {\n",
    "                Some(node) =>  {\n",
    "                    self.node_indexes.insert(*node.0, self.node_indexes.len());\n",
    "                    return Some(Element::Node {\n",
    "                        weight: self.selection.graph.node_weight(*node.0).unwrap().clone()\n",
    "                    })\n",
    "                },\n",
    "                None => self.phase = Phase::Edges(self.selection.edges.iter()),\n",
    "            }\n",
    "        };\n",
    "        if let Phase::Edges(ref mut edges) = self.phase.clone() {\n",
    "            loop{\n",
    "                let edge_ref_maybe = edges.next()\n",
    "                    .and_then(|edge| self.selection.edge_refs.get(edge.0));\n",
    "                match edge_ref_maybe {\n",
    "                    Some(edge_ref) => {\n",
    "                        let new_edge_maybe = self.node_indexes.get(&edge_ref.source())\n",
    "                            .and_then(|source| self.node_indexes.get(&edge_ref.target())\n",
    "                                .map(|target| Element::Edge {\n",
    "                                        weight: edge_ref.weight().clone(),\n",
    "                                        source: *source,\n",
    "                                        target: *target,\n",
    "                                }\n",
    "                            ));\n",
    "                        match new_edge_maybe {\n",
    "                            Some(new_edge) => {\n",
    "                                self.phase = Phase::Edges(edges.clone());\n",
    "                                return Some(new_edge);\n",
    "                            },\n",
    "                            None => continue\n",
    "                        }\n",
    "                    },\n",
    "                    None => {\n",
    "                        self.phase = Phase::Edges(edges.clone());\n",
    "                        return None;\n",
    "                    }\n",
    "                }\n",
    "            }\n",
    "        };\n",
    "        None\n",
    "    }\n",
    "}"
   ]
  },
  {
   "cell_type": "code",
   "execution_count": 11,
   "metadata": {},
   "outputs": [],
   "source": [
    "impl<'a, G, E, N, EW, NW, ER> Selection<'a, G, E, N, EW, NW, ER>\n",
    "where\n",
    "    &'a G: GraphBase<EdgeId = E, NodeId = N> +\n",
    "       Data<EdgeWeight = EW, NodeWeight=NW> +\n",
    "       GraphProp +\n",
    "       NodeIndexable + \n",
    "       IntoNodeReferences +\n",
    "       IntoEdgeReferences,\n",
    "    ER: EdgeRef<Weight = EW, EdgeId = E, NodeId = N>,\n",
    "    E: Copy + Eq + Hash,\n",
    "    N: Copy + Eq + Hash,\n",
    "    NW: std::fmt::Display,\n",
    "    EW: std::fmt::Display,\n",
    "{\n",
    "    pub fn new(g: &'a G) -> Selection<'a, G, E, N, EW, NW, ER> {\n",
    "        Selection{\n",
    "            nodes: HashMap::new(),\n",
    "            edges: HashMap::new(),\n",
    "            edge_refs: HashMap::new(),\n",
    "            graph: g,\n",
    "        }\n",
    "    }\n",
    "    \n",
    "    pub fn draw_selection<'b>(&'b self) {\n",
    "        draw_graph_with_attr_getters(\n",
    "                self.graph,\n",
    "                &[],\n",
    "                &|_, er| format!(\"color = {}\", if self.edges.contains_key(&er.id()) { \"red\" } else { \"black\" }),\n",
    "                &|_, nr| format!(\"color = {}\", if self.nodes.contains_key(&nr.id()) { \"red\" } else { \"black\" }),\n",
    "        );\n",
    "    }\n",
    "    pub fn select_edge<'b>(&'b mut self, edge: ER) {\n",
    "        self.edges.insert(edge.id(), ());\n",
    "        self.edge_refs.insert(edge.id(), edge);\n",
    "    }\n",
    "    pub fn select_node<'b>(&'b mut self, node: N) {\n",
    "        self.nodes.insert(node, ());\n",
    "    }\n",
    "    pub fn deselect_edge<'b>(&'b mut self, edge: E) {\n",
    "        self.edges.remove(&edge);\n",
    "    }\n",
    "    fn deselect_node<'b>(&'b mut self, node: N) {\n",
    "        self.nodes.remove(&node);\n",
    "    }\n",
    "}"
   ]
  },
  {
   "cell_type": "code",
   "execution_count": 17,
   "metadata": {},
   "outputs": [
    {
     "data": {
      "image/png": "[encoded data removed]"
     },
     "execution_count": 17,
     "metadata": {},
     "output_type": "execute_result"
    }
   ],
   "source": [
    "use petgraph_examples as examples;\n",
    "use petgraph::visit::IntoNodeReferences;\n",
    "extern crate petgraph;\n",
    "let dwc = examples::directed_graph_with_cycle();\n",
    "fn ex1<'a>(dwc: &'a Graph<String, String, petgraph::Directed>){\n",
    "\n",
    "    let mut selection: Selection<'a, Graph<String, String, petgraph::Directed>, EdgeIndex, NodeIndex, String, String, EdgeReference<String>> = Selection::new(&dwc);\n",
    "    selection.select_node(node_index(0));\n",
    "    selection.select_edge(dwc.edge_references().next().unwrap());\n",
    "    selection.select_node(node_index(1));\n",
    "    selection.draw_selection();\n",
    "}\n",
    "ex1(&dwc);"
   ]
  },
  {
   "cell_type": "code",
   "execution_count": 27,
   "metadata": {},
   "outputs": [
    {
     "data": {
      "image/png": "[encoded data removed]"
     },
     "execution_count": 27,
     "metadata": {},
     "output_type": "execute_result"
    }
   ],
   "source": [
    "fn ex2<'a>(dwc: &'a Graph<String, String, petgraph::Directed>){\n",
    "\n",
    "    let mut selection: Selection<'a, Graph<String, String, petgraph::Directed>, EdgeIndex, NodeIndex, String, String, EdgeReference<String>> = Selection::new(&dwc);\n",
    "    selection.select_node(node_index(0));\n",
    "    selection.select_edge(dwc.edge_references().next().unwrap());\n",
    "    selection.select_node(node_index(1));\n",
    "    let extracted_selection: Graph<String, String, petgraph::Directed> = Graph::from_elements(selection.to_elements());\n",
    "    draw_graph(&extracted_selection);\n",
    "}\n",
    "ex2(&dwc);"
   ]
  }
 ],
 "metadata": {
  "kernelspec": {
   "display_name": "Rust",
   "language": "rust",
   "name": "rust"
  },
  "language_info": {
   "codemirror_mode": "rust",
   "file_extension": ".rs",
   "mimetype": "text/rust",
   "name": "Rust",
   "pygment_lexer": "rust",
   "version": ""
  }
 },
 "nbformat": 4,
 "nbformat_minor": 2
}
