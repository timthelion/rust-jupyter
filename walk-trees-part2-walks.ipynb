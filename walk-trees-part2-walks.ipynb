{
 "cells": [
  {
   "cell_type": "markdown",
   "metadata": {},
   "source": [
    "Walk trees part 2: walks and selections\n",
    "----------\n",
    "- Author: [Timothy Hobbs](https://timothy.hobbs.cz)\n",
    "- License: [CC-BY-NC 4.0](https://creativecommons.org/licenses/by-nc/4.0/)\n",
    "- Written: 1.2020\n",
    "- Send PRs to: [github](https://github.com/timthelion/rust-jupyter)\n",
    "\n",
    "[project homepage](https://github.com/timthelion/petgraph-fsm) [ipynb](./walk-trees-part2-walks.ipynb)\n",
    "\n",
    "Walk trees are a novel algorithm for selecting regions of graphs.\n",
    "\n",
    "A walk is a connected subgraph of a graph. It is selected by selecting an alternating sequence of vertex's and edges. \n"
   ]
  },
  {
   "cell_type": "code",
   "execution_count": 10,
   "metadata": {},
   "outputs": [],
   "source": [
    ":dep petgraph-examples = {path=\"./petgraph-examples\"}"
   ]
  },
  {
   "cell_type": "code",
   "execution_count": 12,
   "metadata": {},
   "outputs": [],
   "source": [
    ":dep petgraph-evcxr = {path=\"./petgraph-evcxr\"}"
   ]
  },
  {
   "cell_type": "code",
   "execution_count": 13,
   "metadata": {},
   "outputs": [],
   "source": [
    ":dep petgraph-fsm = {path=\"./petgraph-fsm\"}"
   ]
  },
  {
   "cell_type": "code",
   "execution_count": 17,
   "metadata": {},
   "outputs": [],
   "source": [
    ":dep petgraph = {path=\"./petgraph\"}"
   ]
  },
  {
   "cell_type": "code",
   "execution_count": 23,
   "metadata": {},
   "outputs": [],
   "source": [
    "use std::collections::HashSet;\n",
    "use petgraph::*;\n",
    "use petgraph::data::*;\n",
    "use petgraph::visit::*;\n",
    "use std::hash::Hash;"
   ]
  },
  {
   "cell_type": "code",
   "execution_count": 24,
   "metadata": {},
   "outputs": [],
   "source": [
    "pub struct Selection<'a, G, E, N>\n",
    "where\n",
    "    G: GraphBase<EdgeId = E, NodeId = N>,\n",
    "    E: Copy + PartialEq + Hash,\n",
    "    N: Copy + PartialEq + Hash,\n",
    "{\n",
    "    nodes: HashSet<N>,\n",
    "    edges: HashSet<E>,\n",
    "    graph: &'a G,\n",
    "}"
   ]
  },
  {
   "cell_type": "code",
   "execution_count": null,
   "metadata": {},
   "outputs": [],
   "source": [
    "\n",
    "\n",
    "impl for Selection<'a, G, E, N>\n",
    "where\n",
    "    G: GraphBase<EdgeId = E, NodeId = N>,\n",
    "    E: Copy + PartialEq + Hash,\n",
    "    N: Copy + PartialEq + Hash,\n",
    "{\n",
    "    /*\n",
    "    pub fn exctract_selection() -> Graph {\n",
    "        \n",
    "    }\n",
    "    pub fn draw_selection() {\n",
    "        \n",
    "    }\n",
    "    pub fn select_edge(edge: EdgeId) {\n",
    "        \n",
    "    }\n",
    "    pub fn select_node(node: NodeId) {\n",
    "        \n",
    "    }\n",
    "    pub fn deselect_edge(edge: EdgeId) {\n",
    "        \n",
    "    }\n",
    "    */\n",
    "    pub fn deselect_node<'b>(&'b mut self, node: N) {\n",
    "        self.\n",
    "    }\n",
    "}"
   ]
  }
 ],
 "metadata": {
  "kernelspec": {
   "display_name": "Rust",
   "language": "rust",
   "name": "rust"
  },
  "language_info": {
   "codemirror_mode": "rust",
   "file_extension": ".rs",
   "mimetype": "text/rust",
   "name": "Rust",
   "pygment_lexer": "rust",
   "version": ""
  }
 },
 "nbformat": 4,
 "nbformat_minor": 2
}
