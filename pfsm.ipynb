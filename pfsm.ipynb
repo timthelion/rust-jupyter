{
 "cells": [
  {
   "cell_type": "markdown",
   "metadata": {},
   "source": [
    "Programmable state machines in rust\n",
    "--------------------------------------------------------\n",
    "- Author: [Timothy Hobbs](https://timothy.hobbs.cz)\n",
    "- License: [CC-BY 4.0](https://creativecommons.org/licenses/by/4.0/)\n",
    "- Written: 12.2019\n",
    "- Send PRs to: [github](https://github.com/timthelion/rust-jupyter)\n",
    "\n",
    "[project homepage](https://github.com/timthelion/rust-pfsm) [ipynb](./pfsm.ipynb)\n",
    "\n",
    "Rust has several finite state machine packages. However, all of them are meant for state machines who's state network is known at compile time. I needed a programmable state machine, so I turned to the petgraph library for help.\n",
    "\n",
    "I started by creating a struct:"
   ]
  },
  {
   "cell_type": "code",
   "execution_count": 2,
   "metadata": {},
   "outputs": [
    {
     "data": {
      "text/plain": [
       "sccache: true\n"
      ]
     },
     "execution_count": 2,
     "metadata": {},
     "output_type": "execute_result"
    }
   ],
   "source": [
    ":sccache 1"
   ]
  },
  {
   "cell_type": "code",
   "execution_count": 3,
   "metadata": {},
   "outputs": [],
   "source": [
    ":dep petgraph-evcxr = {path=\"./petgraph-evcxr\"}\n",
    ":dep petgraph = {path=\"./petgraph\"}"
   ]
  },
  {
   "cell_type": "code",
   "execution_count": 4,
   "metadata": {},
   "outputs": [],
   "source": [
    "extern crate petgraph;\n",
    "use petgraph::*;\n",
    "use crate::petgraph::visit::*;\n",
    "use petgraph::data::*;\n",
    "use petgraph::graph::*;\n",
    "use petgraph_evcxr::draw_graph_with_attr_getters;\n",
    "\n",
    "struct StateMachine<G>\n",
    "where\n",
    "    G: GraphBase,\n",
    "{\n",
    "    state_network: G,\n",
    "    state: <G as GraphBase>::NodeId,\n",
    "}"
   ]
  },
  {
   "cell_type": "markdown",
   "metadata": {},
   "source": [
    "This struct stores the FSM network as well as the current state."
   ]
  },
  {
   "cell_type": "code",
   "execution_count": 5,
   "metadata": {},
   "outputs": [],
   "source": [
    "impl<G> StateMachine<G>\n",
    " where\n",
    "    G: IntoNodeReferences + IntoEdgeReferences + IntoEdges + Data,\n",
    "    G: NodeIndexable + GraphProp + DataMap + GraphBase,\n",
    "    <G as Data>::NodeWeight: Eq + Copy,\n",
    "    <G as Data>::EdgeWeight: Eq + Copy,\n",
    "{\n",
    "    pub fn next(&mut self, input: <G as Data>::EdgeWeight) -> Option<<G as Data>::NodeWeight> {\n",
    "        for edge in self.state_network.edges(self.state) {\n",
    "            if *edge.weight() == input {\n",
    "                self.state = edge.target();\n",
    "                return match self.state_network.node_weight(self.state) {\n",
    "                    Option::Some(weight) => Some(*weight),\n",
    "                    Option::None => Option::None,\n",
    "                }\n",
    "            }\n",
    "        }\n",
    "        return Option::None\n",
    "    }\n",
    "    \n",
    "    pub fn new(\n",
    "        network: G,\n",
    "        start: <G as Data>::NodeWeight\n",
    "    )\n",
    "        -> Option<StateMachine<G>> {\n",
    "        for nr in network.node_references() {\n",
    "            if *(network.node_weight(nr.id())).unwrap() == start {\n",
    "                return Option::Some(StateMachine{\n",
    "                    state_network: network,\n",
    "                    state: nr.id(),\n",
    "                })\n",
    "            }\n",
    "        }\n",
    "        return Option::None\n",
    "    }\n",
    "}"
   ]
  },
  {
   "cell_type": "code",
   "execution_count": 6,
   "metadata": {},
   "outputs": [],
   "source": [
    "use petgraph::dot::Dot;\n",
    "\n",
    "impl<G> StateMachine<G>\n",
    " where\n",
    "    G: IntoNodeReferences + IntoEdgeReferences + NodeIndexable + GraphProp,\n",
    "    <G as petgraph::visit::Data>::NodeWeight: std::fmt::Display,\n",
    "    <G as petgraph::visit::Data>::EdgeWeight: std::fmt::Display,\n",
    "{\n",
    "    pub fn draw_evcxr(&self) {\n",
    "        draw_graph_with_attr_getters(\n",
    "            self.state_network,\n",
    "            &[],\n",
    "            &|_, _| \"\".to_string(),\n",
    "            &|_, nr| (if nr.id() == self.state { \"shape = circle style = filled fillcolor = red\" } else { \"shape = circle\" }).to_string(),\n",
    "        );\n",
    "    }\n",
    "}"
   ]
  },
  {
   "cell_type": "markdown",
   "metadata": {},
   "source": [
    "The logic is encoded in the `next` method, which takes an `Input` token and returns the next `State`. The input tokens and states can be anything."
   ]
  },
  {
   "cell_type": "code",
   "execution_count": 9,
   "metadata": {},
   "outputs": [],
   "source": [
    "let mut sn : Graph<&str, u32, petgraph::Directed> = Graph::new();\n",
    "let sn_item1 = sn.add_node(\"a\");\n",
    "let sn_item2 = sn.add_node(\"b\");\n",
    "let sn_item3 = sn.add_node(\"c\");\n",
    "let sn_item4 = sn.add_node(\"d\");\n",
    "let sn_item5 = sn.add_node(\"e\");\n",
    "sn.add_edge(sn_item1, sn_item2, 1);\n",
    "sn.add_edge(sn_item1, sn_item3, 2);\n",
    "sn.add_edge(sn_item2, sn_item4, 1);\n",
    "sn.add_edge(sn_item2, sn_item5, 2);\n",
    "sn.add_edge(sn_item5, sn_item1, 2);\n",
    "sn.add_edge(sn_item5, sn_item3, 1);"
   ]
  },
  {
   "cell_type": "code",
   "execution_count": 22,
   "metadata": {},
   "outputs": [
    {
     "data": {
      "image/png": "[encoded data removed]",
      "text/plain": [
       "()"
      ]
     },
     "execution_count": 22,
     "metadata": {},
     "output_type": "execute_result"
    }
   ],
   "source": [
    "{\n",
    "    let mut sm = StateMachine::new(&sn, \"a\").unwrap();\n",
    "    sm.next(1);\n",
    "    sm.next(2);\n",
    "    sm.next(2);\n",
    "    sm.draw_evcxr();\n",
    "    sm.next(1);\n",
    "    sm.draw_evcxr();\n",
    "}"
   ]
  }
 ],
 "metadata": {
  "kernelspec": {
   "display_name": "Rust",
   "language": "rust",
   "name": "rust"
  },
  "language_info": {
   "codemirror_mode": "rust",
   "file_extension": ".rs",
   "mimetype": "text/rust",
   "name": "Rust",
   "pygment_lexer": "rust",
   "version": ""
  }
 },
 "nbformat": 4,
 "nbformat_minor": 2
}
